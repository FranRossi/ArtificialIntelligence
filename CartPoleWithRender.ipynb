{
 "cells": [
  {
   "cell_type": "code",
   "execution_count": null,
   "metadata": {},
   "outputs": [],
   "source": [
    "# !pip install gym\n",
    "# !pip install pygame"
   ]
  },
  {
   "cell_type": "code",
   "execution_count": null,
   "metadata": {},
   "outputs": [],
   "source": [
    "# ! pip install matplotlib"
   ]
  },
  {
   "cell_type": "code",
   "execution_count": 1,
   "metadata": {},
   "outputs": [
    {
     "name": "stderr",
     "output_type": "stream",
     "text": [
      "c:\\Users\\rossi\\AppData\\Local\\Programs\\Python\\Python310\\lib\\site-packages\\gym\\wrappers\\monitoring\\video_recorder.py:9: DeprecationWarning: The distutils package is deprecated and slated for removal in Python 3.12. Use setuptools or check PEP 632 for potential alternatives\n",
      "  import distutils.spawn\n"
     ]
    }
   ],
   "source": [
    "import gym\n",
    "import numpy as np \n",
    "import matplotlib.pyplot as plt\n",
    "import time"
   ]
  },
  {
   "cell_type": "code",
   "execution_count": 2,
   "metadata": {},
   "outputs": [
    {
     "name": "stdout",
     "output_type": "stream",
     "text": [
      "[-4.8000002e+00 -3.4028235e+38 -4.1887903e-01 -3.4028235e+38] \n",
      " [4.8000002e+00 3.4028235e+38 4.1887903e-01 3.4028235e+38]\n"
     ]
    }
   ],
   "source": [
    "env = gym.make('CartPole-v1')\n",
    "print(env.observation_space.low,\"\\n\",env.observation_space.high)"
   ]
  },
  {
   "cell_type": "code",
   "execution_count": 3,
   "metadata": {},
   "outputs": [],
   "source": [
    "state_space = 4 # number of states\n",
    "action_space = 2 # number of possible actions\n",
    "import math\n",
    "positive_infinity = math.inf\n",
    "negative_infinity = -math.inf\n",
    "\n",
    "\n",
    "def Qtable(state_space,action_space,bin_size = 30):\n",
    "    \n",
    "    bins = [np.linspace(-4.8,4.8,bin_size),\n",
    "            np.linspace(negative_infinity,positive_infinity,bin_size),\n",
    "            np.linspace(-0.418,0.418,bin_size),\n",
    "            np.linspace(negative_infinity,positive_infinity,bin_size)]\n",
    "    \n",
    "    q_table = np.random.uniform(low=-1,high=1,size=([bin_size] * state_space + [action_space]))\n",
    "    return q_table, bins\n",
    "\n",
    "def Discrete(state, bins):\n",
    "    index = []\n",
    "    for i in range(len(state)): index.append(np.digitize(state[i],bins[i]) - 1)\n",
    "    return tuple(index)"
   ]
  },
  {
   "cell_type": "code",
   "execution_count": 4,
   "metadata": {},
   "outputs": [],
   "source": [
    "def Q_learning(q_table, bins, episodes = 5000, gamma = 0.95, lr = 0.1, timestep = 5000, epsilon = 0.2):\n",
    "    rewards = 0\n",
    "    solved = False \n",
    "    steps = 0 \n",
    "    runs = [0]\n",
    "    data = {'max' : [0], 'avg' : [0]}\n",
    "    start = time.time()\n",
    "    ep = [i for i in range(0,episodes + 1,timestep)] \n",
    "\n",
    "      \n",
    "    \n",
    "    for episode in range(1,episodes+1):\n",
    "        \n",
    "        current_state = Discrete(env.reset(),bins) # initial observation\n",
    "        score = 0\n",
    "        done = False\n",
    "        temp_start = time.time()\n",
    "        \n",
    "        while not done:\n",
    "            steps += 1 \n",
    "            ep_start = time.time()\n",
    "            if episode%timestep == 0:\n",
    "                env.render()\n",
    "                \n",
    "            if np.random.uniform(0,1) < epsilon:\n",
    "                action = env.action_space.sample()\n",
    "            else:\n",
    "                action = np.argmax(q_table[current_state])\n",
    "            \n",
    "            observation, reward, done, info = env.step(action)\n",
    "            next_state = Discrete(observation,bins)\n",
    "\n",
    "            score += reward\n",
    "            \n",
    "\n",
    "            if not done:\n",
    "                max_future_q = np.max(q_table[next_state])\n",
    "                current_q = q_table[current_state+(action,)]\n",
    "                new_q = (1-lr)*current_q + lr*(reward + gamma*max_future_q)\n",
    "                q_table[current_state+(action,)] = new_q\n",
    "\n",
    "            current_state = next_state\n",
    "            \n",
    "        # End of the loop update\n",
    "        else:\n",
    "            rewards += score\n",
    "            runs.append(score)\n",
    "            #if score > 475 and steps >= 100 and solved == False: # considered as a solved:\n",
    "            if score > 475 and solved == False: # considered as a solved:\n",
    "                solved = True\n",
    "                print('Solved in episode : {} in time {}'.format(episode, (time.time()-ep_start)))\n",
    "        \n",
    "        # Timestep value update\n",
    "        if episode%timestep == 0:\n",
    "            print('Episode : {} | Reward -> {} | Max reward : {} | Time : {}'.format(episode,rewards/timestep, max(runs), time.time() - ep_start))\n",
    "            data['max'].append(max(runs))\n",
    "            data['avg'].append(rewards/timestep)\n",
    "            if rewards/timestep >= 475: \n",
    "                print('Solved in episode : {}'.format(episode))\n",
    "            rewards, runs= 0, [0] \n",
    "            \n",
    "    if len(ep) == len(data['max']):\n",
    "        plt.plot(ep, data['max'], label = 'Max')\n",
    "        plt.plot(ep, data['avg'], label = 'Avg')\n",
    "        plt.xlabel('Episode')\n",
    "        plt.ylabel('Reward')\n",
    "        plt.legend(loc = \"upper left\")\n",
    "        \n",
    "    env.close()"
   ]
  },
  {
   "cell_type": "code",
   "execution_count": 5,
   "metadata": {},
   "outputs": [
    {
     "name": "stderr",
     "output_type": "stream",
     "text": [
      "c:\\Users\\rossi\\AppData\\Local\\Programs\\Python\\Python310\\lib\\site-packages\\numpy\\core\\function_base.py:151: RuntimeWarning: invalid value encountered in multiply\n",
      "  y *= step\n",
      "c:\\Users\\rossi\\AppData\\Local\\Programs\\Python\\Python310\\lib\\site-packages\\numpy\\core\\function_base.py:161: RuntimeWarning: invalid value encountered in add\n",
      "  y += start\n"
     ]
    },
    {
     "name": "stdout",
     "output_type": "stream",
     "text": [
      "Episode : 1000 | Reward -> 23.428 | Max reward : 89.0 | Time : 0.021000146865844727\n",
      "Episode : 2000 | Reward -> 23.278 | Max reward : 101.0 | Time : 0.01965641975402832\n",
      "Episode : 3000 | Reward -> 20.364 | Max reward : 68.0 | Time : 0.020006895065307617\n",
      "Episode : 4000 | Reward -> 21.418 | Max reward : 107.0 | Time : 0.019991636276245117\n",
      "Episode : 5000 | Reward -> 23.736 | Max reward : 79.0 | Time : 0.020259857177734375\n",
      "Episode : 6000 | Reward -> 21.43 | Max reward : 91.0 | Time : 0.018993377685546875\n",
      "Episode : 7000 | Reward -> 22.207 | Max reward : 106.0 | Time : 0.022036314010620117\n",
      "Episode : 8000 | Reward -> 21.571 | Max reward : 77.0 | Time : 0.02355790138244629\n",
      "Episode : 9000 | Reward -> 21.023 | Max reward : 98.0 | Time : 0.02098393440246582\n",
      "Episode : 10000 | Reward -> 18.93 | Max reward : 73.0 | Time : 0.020992755889892578\n",
      "Episode : 11000 | Reward -> 18.272 | Max reward : 75.0 | Time : 0.022002458572387695\n",
      "Episode : 12000 | Reward -> 20.157 | Max reward : 68.0 | Time : 0.02005934715270996\n",
      "Episode : 13000 | Reward -> 18.08 | Max reward : 75.0 | Time : 0.02005791664123535\n",
      "Episode : 14000 | Reward -> 19.86 | Max reward : 91.0 | Time : 0.020349979400634766\n",
      "Episode : 15000 | Reward -> 19.642 | Max reward : 82.0 | Time : 0.019722938537597656\n",
      "Episode : 16000 | Reward -> 17.854 | Max reward : 81.0 | Time : 0.022038698196411133\n",
      "Episode : 17000 | Reward -> 19.919 | Max reward : 88.0 | Time : 0.019840002059936523\n",
      "Episode : 18000 | Reward -> 17.9 | Max reward : 80.0 | Time : 0.01918649673461914\n",
      "Episode : 19000 | Reward -> 19.14 | Max reward : 78.0 | Time : 0.018978357315063477\n",
      "Episode : 20000 | Reward -> 18.11 | Max reward : 116.0 | Time : 0.018959522247314453\n",
      "Episode : 21000 | Reward -> 19.388 | Max reward : 92.0 | Time : 0.021259546279907227\n",
      "Episode : 22000 | Reward -> 18.319 | Max reward : 87.0 | Time : 0.021010160446166992\n",
      "Episode : 23000 | Reward -> 20.682 | Max reward : 77.0 | Time : 0.021036624908447266\n"
     ]
    },
    {
     "ename": "KeyboardInterrupt",
     "evalue": "",
     "output_type": "error",
     "traceback": [
      "\u001b[1;31m---------------------------------------------------------------------------\u001b[0m",
      "\u001b[1;31mKeyboardInterrupt\u001b[0m                         Traceback (most recent call last)",
      "\u001b[1;32mc:\\Users\\rossi\\OneDrive - Facultad de Ingenieria - Universidad ORT Uruguay\\ORT\\Semestre07\\InteligenciaArtificial\\Obligatorio\\ArtificialIntelligence\\CartPoleWithRender.ipynb Cell 7'\u001b[0m in \u001b[0;36m<cell line: 4>\u001b[1;34m()\u001b[0m\n\u001b[0;32m      <a href='vscode-notebook-cell:/c%3A/Users/rossi/OneDrive%20-%20Facultad%20de%20Ingenieria%20-%20Universidad%20ORT%20Uruguay/ORT/Semestre07/InteligenciaArtificial/Obligatorio/ArtificialIntelligence/CartPoleWithRender.ipynb#ch0000006?line=0'>1</a>\u001b[0m \u001b[39m# TRANING\u001b[39;00m\n\u001b[0;32m      <a href='vscode-notebook-cell:/c%3A/Users/rossi/OneDrive%20-%20Facultad%20de%20Ingenieria%20-%20Universidad%20ORT%20Uruguay/ORT/Semestre07/InteligenciaArtificial/Obligatorio/ArtificialIntelligence/CartPoleWithRender.ipynb#ch0000006?line=1'>2</a>\u001b[0m q_table, bins \u001b[39m=\u001b[39m Qtable(\u001b[39mlen\u001b[39m(env\u001b[39m.\u001b[39mobservation_space\u001b[39m.\u001b[39mlow), env\u001b[39m.\u001b[39maction_space\u001b[39m.\u001b[39mn)\n\u001b[1;32m----> <a href='vscode-notebook-cell:/c%3A/Users/rossi/OneDrive%20-%20Facultad%20de%20Ingenieria%20-%20Universidad%20ORT%20Uruguay/ORT/Semestre07/InteligenciaArtificial/Obligatorio/ArtificialIntelligence/CartPoleWithRender.ipynb#ch0000006?line=3'>4</a>\u001b[0m Q_learning(q_table, bins, lr \u001b[39m=\u001b[39;49m \u001b[39m0.15\u001b[39;49m, gamma \u001b[39m=\u001b[39;49m \u001b[39m0.995\u001b[39;49m, episodes \u001b[39m=\u001b[39;49m \u001b[39m5\u001b[39;49m\u001b[39m*\u001b[39;49m\u001b[39m10\u001b[39;49m\u001b[39m*\u001b[39;49m\u001b[39m*\u001b[39;49m\u001b[39m5\u001b[39;49m, timestep \u001b[39m=\u001b[39;49m \u001b[39m1000\u001b[39;49m)\n",
      "\u001b[1;32mc:\\Users\\rossi\\OneDrive - Facultad de Ingenieria - Universidad ORT Uruguay\\ORT\\Semestre07\\InteligenciaArtificial\\Obligatorio\\ArtificialIntelligence\\CartPoleWithRender.ipynb Cell 6'\u001b[0m in \u001b[0;36mQ_learning\u001b[1;34m(q_table, bins, episodes, gamma, lr, timestep, epsilon)\u001b[0m\n\u001b[0;32m     <a href='vscode-notebook-cell:/c%3A/Users/rossi/OneDrive%20-%20Facultad%20de%20Ingenieria%20-%20Universidad%20ORT%20Uruguay/ORT/Semestre07/InteligenciaArtificial/Obligatorio/ArtificialIntelligence/CartPoleWithRender.ipynb#ch0000005?line=27'>28</a>\u001b[0m     action \u001b[39m=\u001b[39m np\u001b[39m.\u001b[39margmax(q_table[current_state])\n\u001b[0;32m     <a href='vscode-notebook-cell:/c%3A/Users/rossi/OneDrive%20-%20Facultad%20de%20Ingenieria%20-%20Universidad%20ORT%20Uruguay/ORT/Semestre07/InteligenciaArtificial/Obligatorio/ArtificialIntelligence/CartPoleWithRender.ipynb#ch0000005?line=29'>30</a>\u001b[0m observation, reward, done, info \u001b[39m=\u001b[39m env\u001b[39m.\u001b[39mstep(action)\n\u001b[1;32m---> <a href='vscode-notebook-cell:/c%3A/Users/rossi/OneDrive%20-%20Facultad%20de%20Ingenieria%20-%20Universidad%20ORT%20Uruguay/ORT/Semestre07/InteligenciaArtificial/Obligatorio/ArtificialIntelligence/CartPoleWithRender.ipynb#ch0000005?line=30'>31</a>\u001b[0m next_state \u001b[39m=\u001b[39m Discrete(observation,bins)\n\u001b[0;32m     <a href='vscode-notebook-cell:/c%3A/Users/rossi/OneDrive%20-%20Facultad%20de%20Ingenieria%20-%20Universidad%20ORT%20Uruguay/ORT/Semestre07/InteligenciaArtificial/Obligatorio/ArtificialIntelligence/CartPoleWithRender.ipynb#ch0000005?line=32'>33</a>\u001b[0m score \u001b[39m+\u001b[39m\u001b[39m=\u001b[39m reward\n\u001b[0;32m     <a href='vscode-notebook-cell:/c%3A/Users/rossi/OneDrive%20-%20Facultad%20de%20Ingenieria%20-%20Universidad%20ORT%20Uruguay/ORT/Semestre07/InteligenciaArtificial/Obligatorio/ArtificialIntelligence/CartPoleWithRender.ipynb#ch0000005?line=35'>36</a>\u001b[0m \u001b[39mif\u001b[39;00m \u001b[39mnot\u001b[39;00m done:\n",
      "\u001b[1;32mc:\\Users\\rossi\\OneDrive - Facultad de Ingenieria - Universidad ORT Uruguay\\ORT\\Semestre07\\InteligenciaArtificial\\Obligatorio\\ArtificialIntelligence\\CartPoleWithRender.ipynb Cell 5'\u001b[0m in \u001b[0;36mDiscrete\u001b[1;34m(state, bins)\u001b[0m\n\u001b[0;32m     <a href='vscode-notebook-cell:/c%3A/Users/rossi/OneDrive%20-%20Facultad%20de%20Ingenieria%20-%20Universidad%20ORT%20Uruguay/ORT/Semestre07/InteligenciaArtificial/Obligatorio/ArtificialIntelligence/CartPoleWithRender.ipynb#ch0000004?line=17'>18</a>\u001b[0m \u001b[39mdef\u001b[39;00m \u001b[39mDiscrete\u001b[39m(state, bins):\n\u001b[0;32m     <a href='vscode-notebook-cell:/c%3A/Users/rossi/OneDrive%20-%20Facultad%20de%20Ingenieria%20-%20Universidad%20ORT%20Uruguay/ORT/Semestre07/InteligenciaArtificial/Obligatorio/ArtificialIntelligence/CartPoleWithRender.ipynb#ch0000004?line=18'>19</a>\u001b[0m     index \u001b[39m=\u001b[39m []\n\u001b[1;32m---> <a href='vscode-notebook-cell:/c%3A/Users/rossi/OneDrive%20-%20Facultad%20de%20Ingenieria%20-%20Universidad%20ORT%20Uruguay/ORT/Semestre07/InteligenciaArtificial/Obligatorio/ArtificialIntelligence/CartPoleWithRender.ipynb#ch0000004?line=19'>20</a>\u001b[0m     \u001b[39mfor\u001b[39;00m i \u001b[39min\u001b[39;00m \u001b[39mrange\u001b[39m(\u001b[39mlen\u001b[39m(state)): index\u001b[39m.\u001b[39mappend(np\u001b[39m.\u001b[39;49mdigitize(state[i],bins[i]) \u001b[39m-\u001b[39m \u001b[39m1\u001b[39m)\n\u001b[0;32m     <a href='vscode-notebook-cell:/c%3A/Users/rossi/OneDrive%20-%20Facultad%20de%20Ingenieria%20-%20Universidad%20ORT%20Uruguay/ORT/Semestre07/InteligenciaArtificial/Obligatorio/ArtificialIntelligence/CartPoleWithRender.ipynb#ch0000004?line=20'>21</a>\u001b[0m     \u001b[39mreturn\u001b[39;00m \u001b[39mtuple\u001b[39m(index)\n",
      "File \u001b[1;32m<__array_function__ internals>:179\u001b[0m, in \u001b[0;36mdigitize\u001b[1;34m(*args, **kwargs)\u001b[0m\n",
      "File \u001b[1;32mc:\\Users\\rossi\\AppData\\Local\\Programs\\Python\\Python310\\lib\\site-packages\\numpy\\lib\\function_base.py:5395\u001b[0m, in \u001b[0;36m_digitize_dispatcher\u001b[1;34m(x, bins, right)\u001b[0m\n\u001b[0;32m   <a href='file:///c%3A/Users/rossi/AppData/Local/Programs/Python/Python310/lib/site-packages/numpy/lib/function_base.py?line=5390'>5391</a>\u001b[0m         axis \u001b[39m=\u001b[39m arr\u001b[39m.\u001b[39mndim\u001b[39m-\u001b[39m\u001b[39m1\u001b[39m\n\u001b[0;32m   <a href='file:///c%3A/Users/rossi/AppData/Local/Programs/Python/Python310/lib/site-packages/numpy/lib/function_base.py?line=5391'>5392</a>\u001b[0m     \u001b[39mreturn\u001b[39;00m concatenate((arr, values), axis\u001b[39m=\u001b[39maxis)\n\u001b[1;32m-> <a href='file:///c%3A/Users/rossi/AppData/Local/Programs/Python/Python310/lib/site-packages/numpy/lib/function_base.py?line=5394'>5395</a>\u001b[0m \u001b[39mdef\u001b[39;00m \u001b[39m_digitize_dispatcher\u001b[39m(x, bins, right\u001b[39m=\u001b[39m\u001b[39mNone\u001b[39;00m):\n\u001b[0;32m   <a href='file:///c%3A/Users/rossi/AppData/Local/Programs/Python/Python310/lib/site-packages/numpy/lib/function_base.py?line=5395'>5396</a>\u001b[0m     \u001b[39mreturn\u001b[39;00m (x, bins)\n\u001b[0;32m   <a href='file:///c%3A/Users/rossi/AppData/Local/Programs/Python/Python310/lib/site-packages/numpy/lib/function_base.py?line=5398'>5399</a>\u001b[0m \u001b[39m@array_function_dispatch\u001b[39m(_digitize_dispatcher)\n\u001b[0;32m   <a href='file:///c%3A/Users/rossi/AppData/Local/Programs/Python/Python310/lib/site-packages/numpy/lib/function_base.py?line=5399'>5400</a>\u001b[0m \u001b[39mdef\u001b[39;00m \u001b[39mdigitize\u001b[39m(x, bins, right\u001b[39m=\u001b[39m\u001b[39mFalse\u001b[39;00m):\n",
      "\u001b[1;31mKeyboardInterrupt\u001b[0m: "
     ]
    },
    {
     "ename": "",
     "evalue": "",
     "output_type": "error",
     "traceback": [
      "\u001b[1;31mThe Kernel crashed while executing code in the the current cell or a previous cell. Please review the code in the cell(s) to identify a possible cause of the failure. Click <a href='https://aka.ms/vscodeJupyterKernelCrash'>here</a> for more info. View Jupyter <a href='command:jupyter.viewOutput'>log</a> for further details."
     ]
    }
   ],
   "source": [
    "# TRANING\n",
    "q_table, bins = Qtable(len(env.observation_space.low), env.action_space.n)\n",
    "\n",
    "Q_learning(q_table, bins, lr = 0.15, gamma = 0.995, episodes = 5*10**5, timestep = 1000)\n",
    "\n"
   ]
  }
 ],
 "metadata": {
  "interpreter": {
   "hash": "e3240f94388efcc62be48edbcba9119757863add8d7dfebab53d57f92d8698f1"
  },
  "kernelspec": {
   "display_name": "Python 3.10.4 64-bit",
   "language": "python",
   "name": "python3"
  },
  "language_info": {
   "codemirror_mode": {
    "name": "ipython",
    "version": 3
   },
   "file_extension": ".py",
   "mimetype": "text/x-python",
   "name": "python",
   "nbconvert_exporter": "python",
   "pygments_lexer": "ipython3",
   "version": "3.10.4"
  },
  "orig_nbformat": 4
 },
 "nbformat": 4,
 "nbformat_minor": 2
}
