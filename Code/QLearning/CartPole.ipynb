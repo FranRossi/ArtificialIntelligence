{
 "cells": [
  {
   "cell_type": "code",
   "execution_count": 1,
   "metadata": {},
   "outputs": [],
   "source": [
    "# !pip install gym\n",
    "# !pip install pygame\n",
    "# ! pip install matplotlib\n",
    "\n",
    "\n",
    "# https://www.gymlibrary.ml/environments/classic_control/cart_pole/?highlight=cart+pole"
   ]
  },
  {
   "cell_type": "code",
   "execution_count": 2,
   "metadata": {},
   "outputs": [],
   "source": [
    "import gym\n",
    "import numpy as np \n",
    "import matplotlib.pyplot as plt\n",
    "import time"
   ]
  },
  {
   "cell_type": "code",
   "execution_count": 3,
   "metadata": {},
   "outputs": [
    {
     "name": "stdout",
     "output_type": "stream",
     "text": [
      "[-4.8000002e+00 -3.4028235e+38 -4.1887903e-01 -3.4028235e+38] \n",
      " [4.8000002e+00 3.4028235e+38 4.1887903e-01 3.4028235e+38]\n"
     ]
    }
   ],
   "source": [
    "env = gym.make('CartPole-v1')\n",
    "print(env.observation_space.low,\"\\n\",env.observation_space.high)"
   ]
  },
  {
   "cell_type": "code",
   "execution_count": 4,
   "metadata": {},
   "outputs": [],
   "source": [
    "action_space = 2 # number of possible actions\n",
    "bin_size = 15\n",
    "\n",
    "overe0 = float(4)\n",
    "overe1 = float(4)/2**1\n",
    "overe2 = float(4)/2**2\n",
    "overe3 = float(4)/2**3\n",
    "overe4 = float(4)/2**4\n",
    "overe5 = float(4)/2**5\n",
    "overe6 = float(4)/2**6\n",
    "\n",
    "lin_space = [-overe0, -overe1, -overe2, -overe3, -overe4, -overe5, -overe6, 0, overe6, overe5, overe4, overe3, overe2, overe1, overe0]\n",
    "\n",
    "def Qtable(state_space,action_space,bin_size=15 ):\n",
    "    bins = [np.linspace(-2.4,2.4,bin_size),\n",
    "            lin_space,\n",
    "            np.linspace(-0.2095,0.2095,bin_size),\n",
    "            lin_space]\n",
    "   \n",
    "    q_table = np.random.uniform(low=-1,high=1,size=([len(bins[0]), len(bins[1]), len(bins[2]), len(bins[3])] + [action_space]))\n",
    "    return q_table, bins\n",
    "\n",
    "def Discrete(state, bins):\n",
    "    index = []\n",
    "    for i in range(len(state)): index.append(np.digitize(state[i],bins[i]) - 1)\n",
    "    return tuple(index)"
   ]
  },
  {
   "cell_type": "code",
   "execution_count": 5,
   "metadata": {},
   "outputs": [],
   "source": [
    "def epsilon_greedy_policy(state, Q, epsilon=0.1):\n",
    "    explore = np.random.binomial(1, epsilon)\n",
    "    if explore:\n",
    "        action = env.action_space.sample()\n",
    "    else:\n",
    "        action = np.argmax(Q[state])\n",
    "   \n",
    "    return action"
   ]
  },
  {
   "cell_type": "code",
   "execution_count": 6,
   "metadata": {},
   "outputs": [],
   "source": [
    "def plotLearning(data, episodes, timestep):\n",
    "    ep = [i for i in range(0,episodes,timestep)]\n",
    "    plt.plot(ep, data['max'], label = 'Max')\n",
    "    plt.plot(ep, data['avg'], label = 'Avg')\n",
    "    plt.plot(ep, data['min'], label = 'Min')\n",
    "    plt.xlabel('Episode')\n",
    "    plt.ylabel('Reward')\n",
    "    plt.legend(loc = \"upper left\")\n",
    "\n",
    "def printImprovement (data, episode, rewards, timestep, runs, episodes_to_solve, process_time, timesWon, epsilon, solved):\n",
    "    print('Episode : {} | Avg. Rewards -> {} | Max reward : {} | Min Reward : {}'.format(episode,rewards/timestep, max(runs), min(runs)))\n",
    "    data['max'].append(max(runs))\n",
    "    data['avg'].append(rewards/timestep)\n",
    "    data['min'].append(min(runs))\n",
    "    episodes_to_solve = episode\n",
    "    if rewards/timestep >= 475:\n",
    "        timesWon += 1 \n",
    "        print('Solved in episode : {}'.format(episode))\n",
    "        solved['episodes'].append(episode)\n",
    "        solved['timeMinutes'].append(round((time.time() - process_time)/60,2))\n",
    "        epsilon = 0.01\n",
    "    \n",
    "    return episodes_to_solve, timesWon, epsilon"
   ]
  },
  {
   "cell_type": "code",
   "execution_count": 7,
   "metadata": {},
   "outputs": [],
   "source": [
    "def updateQtable(q_table,action, reward, current_state, next_state, gamma, lr):\n",
    "    max_future_q = np.max(q_table[next_state])\n",
    "    current_q = q_table[current_state+(action,)]\n",
    "    new_q = (1-lr)*current_q + lr*(reward + gamma*max_future_q)\n",
    "    q_table[current_state+(action,)] = new_q\n",
    "    return q_table"
   ]
  },
  {
   "cell_type": "code",
   "execution_count": 8,
   "metadata": {},
   "outputs": [],
   "source": [
    "    \n",
    "def Q_learning(q_table, bins, episodes = 5000, gamma = 0.995, lr = 0.1, timestep = 5000, epsilon = 0.05):\n",
    "    rewards, timesWon, episodes_to_solve = 0, 0, 0\n",
    "    runs = []\n",
    "    data = {'max' : [], 'avg' : [], 'min': []}\n",
    "    solved = {'episodes' : [], 'timeMinutes': []}\n",
    "    process_time = time.time()\n",
    "\n",
    "    for episode in range(1,episodes+1):\n",
    "        current_state = Discrete(env.reset(),bins) # initial observation\n",
    "        score = 0\n",
    "        done = False\n",
    "        \n",
    "        while not done:  \n",
    "            action = epsilon_greedy_policy(current_state, q_table, epsilon)\n",
    "            obs, reward, done, info = env.step(action)\n",
    "            next_state = Discrete(obs,bins)\n",
    "            score += reward\n",
    "            \n",
    "            if (not done) or (score == 500):\n",
    "                q_table = updateQtable(q_table,action, reward, current_state,next_state, gamma, lr)           \n",
    "\n",
    "            current_state = next_state\n",
    "            \n",
    "        # End of the loop update\n",
    "        else:\n",
    "            env.reset()\n",
    "            rewards += score\n",
    "            runs.append(score)\n",
    "        \n",
    "        # Timestep value update\n",
    "        if episode%timestep == 0:\n",
    "            episodes_to_solve, timesWon, epsilon = printImprovement(data, episode, rewards, timestep, runs, episodes_to_solve, process_time, timesWon, epsilon, solved)\n",
    "            rewards, runs= 0, []\n",
    "        \n",
    "        \n",
    "        if timesWon == 5:\n",
    "            episodes_to_solve = episode\n",
    "            break\n",
    "\n",
    "    print('Solved ' + str(timesWon) + ' times in ' + str(solved))\n",
    "    plotLearning(data, episodes_to_solve, timestep)\n",
    "    env.close()"
   ]
  },
  {
   "cell_type": "code",
   "execution_count": 9,
   "metadata": {},
   "outputs": [
    {
     "name": "stdout",
     "output_type": "stream",
     "text": [
      "Episode : 1000 | Avg. Rewards -> 29.672 | Max reward : 163.0 | Min Reward : 8.0\n",
      "Episode : 2000 | Avg. Rewards -> 28.945 | Max reward : 143.0 | Min Reward : 8.0\n",
      "Episode : 3000 | Avg. Rewards -> 34.97 | Max reward : 263.0 | Min Reward : 8.0\n",
      "Episode : 4000 | Avg. Rewards -> 51.456 | Max reward : 500.0 | Min Reward : 10.0\n",
      "Episode : 5000 | Avg. Rewards -> 63.868 | Max reward : 500.0 | Min Reward : 11.0\n",
      "Episode : 6000 | Avg. Rewards -> 94.14 | Max reward : 500.0 | Min Reward : 12.0\n",
      "Episode : 7000 | Avg. Rewards -> 148.732 | Max reward : 500.0 | Min Reward : 13.0\n",
      "Episode : 8000 | Avg. Rewards -> 167.911 | Max reward : 500.0 | Min Reward : 11.0\n",
      "Episode : 9000 | Avg. Rewards -> 176.613 | Max reward : 500.0 | Min Reward : 20.0\n",
      "Episode : 10000 | Avg. Rewards -> 206.517 | Max reward : 500.0 | Min Reward : 29.0\n",
      "Episode : 11000 | Avg. Rewards -> 196.057 | Max reward : 500.0 | Min Reward : 25.0\n",
      "Episode : 12000 | Avg. Rewards -> 233.54 | Max reward : 500.0 | Min Reward : 29.0\n",
      "Episode : 13000 | Avg. Rewards -> 265.598 | Max reward : 500.0 | Min Reward : 17.0\n",
      "Episode : 14000 | Avg. Rewards -> 318.554 | Max reward : 500.0 | Min Reward : 28.0\n",
      "Episode : 15000 | Avg. Rewards -> 286.84 | Max reward : 500.0 | Min Reward : 27.0\n",
      "Episode : 16000 | Avg. Rewards -> 321.621 | Max reward : 500.0 | Min Reward : 22.0\n",
      "Episode : 17000 | Avg. Rewards -> 334.347 | Max reward : 500.0 | Min Reward : 23.0\n",
      "Episode : 18000 | Avg. Rewards -> 321.637 | Max reward : 500.0 | Min Reward : 29.0\n",
      "Episode : 19000 | Avg. Rewards -> 322.875 | Max reward : 500.0 | Min Reward : 29.0\n",
      "Episode : 20000 | Avg. Rewards -> 285.329 | Max reward : 500.0 | Min Reward : 29.0\n",
      "Episode : 21000 | Avg. Rewards -> 318.12 | Max reward : 500.0 | Min Reward : 27.0\n",
      "Episode : 22000 | Avg. Rewards -> 368.185 | Max reward : 500.0 | Min Reward : 45.0\n",
      "Episode : 23000 | Avg. Rewards -> 440.107 | Max reward : 500.0 | Min Reward : 60.0\n",
      "Episode : 24000 | Avg. Rewards -> 423.632 | Max reward : 500.0 | Min Reward : 26.0\n",
      "Episode : 25000 | Avg. Rewards -> 424.92 | Max reward : 500.0 | Min Reward : 56.0\n",
      "Episode : 26000 | Avg. Rewards -> 432.269 | Max reward : 500.0 | Min Reward : 50.0\n",
      "Episode : 27000 | Avg. Rewards -> 427.4 | Max reward : 500.0 | Min Reward : 60.0\n",
      "Episode : 28000 | Avg. Rewards -> 413.436 | Max reward : 500.0 | Min Reward : 39.0\n",
      "Episode : 29000 | Avg. Rewards -> 460.474 | Max reward : 500.0 | Min Reward : 55.0\n",
      "Episode : 30000 | Avg. Rewards -> 453.562 | Max reward : 500.0 | Min Reward : 68.0\n",
      "Episode : 31000 | Avg. Rewards -> 430.935 | Max reward : 500.0 | Min Reward : 52.0\n",
      "Episode : 32000 | Avg. Rewards -> 412.166 | Max reward : 500.0 | Min Reward : 19.0\n",
      "Episode : 33000 | Avg. Rewards -> 408.489 | Max reward : 500.0 | Min Reward : 31.0\n",
      "Episode : 34000 | Avg. Rewards -> 445.601 | Max reward : 500.0 | Min Reward : 26.0\n",
      "Episode : 35000 | Avg. Rewards -> 441.831 | Max reward : 500.0 | Min Reward : 27.0\n",
      "Episode : 36000 | Avg. Rewards -> 443.245 | Max reward : 500.0 | Min Reward : 44.0\n",
      "Episode : 37000 | Avg. Rewards -> 425.395 | Max reward : 500.0 | Min Reward : 32.0\n",
      "Episode : 38000 | Avg. Rewards -> 456.181 | Max reward : 500.0 | Min Reward : 27.0\n",
      "Episode : 39000 | Avg. Rewards -> 426.39 | Max reward : 500.0 | Min Reward : 25.0\n",
      "Episode : 40000 | Avg. Rewards -> 450.432 | Max reward : 500.0 | Min Reward : 29.0\n",
      "Episode : 41000 | Avg. Rewards -> 387.063 | Max reward : 500.0 | Min Reward : 22.0\n",
      "Episode : 42000 | Avg. Rewards -> 484.179 | Max reward : 500.0 | Min Reward : 27.0\n",
      "Solved in episode : 42000\n",
      "Episode : 43000 | Avg. Rewards -> 500.0 | Max reward : 500.0 | Min Reward : 500.0\n",
      "Solved in episode : 43000\n",
      "Episode : 44000 | Avg. Rewards -> 498.807 | Max reward : 500.0 | Min Reward : 265.0\n",
      "Solved in episode : 44000\n",
      "Episode : 45000 | Avg. Rewards -> 493.385 | Max reward : 500.0 | Min Reward : 58.0\n",
      "Solved in episode : 45000\n",
      "Episode : 46000 | Avg. Rewards -> 495.984 | Max reward : 500.0 | Min Reward : 99.0\n",
      "Solved in episode : 46000\n",
      "Solved 5 times in {'episodes': [42000, 43000, 44000, 45000, 46000], 'timeMinutes': [14.85, 15.41, 15.96, 16.52, 17.09]}\n"
     ]
    },
    {
     "data": {
      "image/png": "[encoded data removed]",
      "text/plain": [
       "<Figure size 432x288 with 1 Axes>"
      ]
     },
     "metadata": {
      "needs_background": "light"
     },
     "output_type": "display_data"
    }
   ],
   "source": [
    "# TRANING\n",
    "q_table, bins = Qtable(len(env.observation_space.low), env.action_space.n)\n",
    "Q_learning(q_table, bins, lr = 0.14, gamma = 0.995, episodes = 5*10**4, timestep = 1000, epsilon = 0.06)"
   ]
  }
 ],
 "metadata": {
  "kernelspec": {
   "display_name": "Python 3 (ipykernel)",
   "language": "python",
   "name": "python3"
  },
  "language_info": {
   "codemirror_mode": {
    "name": "ipython",
    "version": 3
   },
   "file_extension": ".py",
   "mimetype": "text/x-python",
   "name": "python",
   "nbconvert_exporter": "python",
   "pygments_lexer": "ipython3",
   "version": "3.7.12"
  },
  "orig_nbformat": 4,
  "vscode": {
   "interpreter": {
    "hash": "e3240f94388efcc62be48edbcba9119757863add8d7dfebab53d57f92d8698f1"
   }
  }
 },
 "nbformat": 4,
 "nbformat_minor": 2
}
