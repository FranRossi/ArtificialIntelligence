{
 "cells": [
  {
   "cell_type": "code",
   "execution_count": 15,
   "metadata": {},
   "outputs": [
    {
     "name": "stdout",
     "output_type": "stream",
     "text": [
      "[-4.8000002e+00 -3.4028235e+38 -4.1887903e-01 -3.4028235e+38] \n",
      " [4.8000002e+00 3.4028235e+38 4.1887903e-01 3.4028235e+38]\n"
     ]
    },
    {
     "name": "stderr",
     "output_type": "stream",
     "text": [
      "/opt/homebrew/lib/python3.9/site-packages/gym/utils/passive_env_checker.py:97: UserWarning: \u001b[33mWARN: We recommend you to use a symmetric and normalized Box action space (range=[-1, 1]) https://stable-baselines3.readthedocs.io/en/master/guide/rl_tips.html\u001b[0m\n",
      "  logger.warn(\n"
     ]
    }
   ],
   "source": [
    "import gym\n",
    "import numpy as np \n",
    "import matplotlib.pyplot as plt\n",
    "import time\n",
    "\n",
    "env = gym.make('CartPole-v1')\n",
    "print(env.observation_space.low,\"\\n\",env.observation_space.high)"
   ]
  },
  {
   "cell_type": "code",
   "execution_count": 16,
   "metadata": {},
   "outputs": [],
   "source": [
    "action_space = 2 # number of possible actions\n",
    "bin_size = 15\n",
    "\n",
    "overe0 = float(4)\n",
    "overe1 = float(4)/2**1\n",
    "overe2 = float(4)/2**2\n",
    "overe3 = float(4)/2**3\n",
    "overe4 = float(4)/2**4\n",
    "overe5 = float(4)/2**5\n",
    "overe6 = float(4)/2**6\n",
    "\n",
    "lin_space = [-overe0, -overe1, -overe2, -overe3, -overe4, -overe5, -overe6, 0, overe6, overe5, overe4, overe3, overe2, overe1, overe0]\n",
    "\n",
    "def Qtable(state_space,action_space,bin_size=15 ):\n",
    "    bins = [np.linspace(-2.4,2.4,bin_size),\n",
    "            lin_space,\n",
    "            np.linspace(-0.2095,0.2095,bin_size),\n",
    "            lin_space]\n",
    "   \n",
    "    q_table = np.random.uniform(low=-1,high=1,size=([len(bins[0]), len(bins[1]), len(bins[2]), len(bins[3])] + [action_space]))\n",
    "    return q_table, bins\n",
    "\n",
    "def Discrete(state, bins):\n",
    "    index = []\n",
    "    for i in range(len(state)): index.append(np.digitize(state[i],bins[i]) - 1)\n",
    "    return tuple(index)\n",
    "\n",
    "def epsilon_greedy_policy(state, Q, epsilon=0.1):\n",
    "    explore = np.random.binomial(1, epsilon)\n",
    "    if explore:\n",
    "        action = env.action_space.sample()\n",
    "    else:\n",
    "        action = np.argmax(Q[state])\n",
    "   \n",
    "    return action\n",
    "\n",
    "def plotLearning(data, episodes, timestep):\n",
    "    ep = [i for i in range(0,episodes,timestep)]\n",
    "    plt.plot(ep, data['max'], label = 'Max')\n",
    "    plt.plot(ep, data['avg'], label = 'Avg')\n",
    "    plt.plot(ep, data['min'], label = 'Min')\n",
    "    plt.xlabel('Episode')\n",
    "    plt.ylabel('Reward')\n",
    "    plt.legend(loc = \"upper left\")\n",
    "\n",
    "def printImprovement (data, episode, rewards, timestep, runs, episodes_to_solve, process_time, timesWon, epsilon, solved):\n",
    "    print('Episode : {} | Avg. Rewards -> {} | Max reward : {} | Min Reward : {}'.format(episode,rewards/timestep, max(runs), min(runs)))\n",
    "    data['max'].append(max(runs))\n",
    "    data['avg'].append(rewards/timestep)\n",
    "    data['min'].append(min(runs))\n",
    "    episodes_to_solve = episode\n",
    "    if rewards/timestep >= 475:\n",
    "        timesWon += 1 \n",
    "        print('Solved in episode : {}'.format(episode))\n",
    "        solved['episodes'].append(episode)\n",
    "        solved['timeMinutes'].append(round((time.time() - process_time)/60,2))\n",
    "        epsilon = 0.01\n",
    "    \n",
    "    return episodes_to_solve, timesWon, epsilon\n",
    "\n",
    "def updateQtable(action, reward, current_state, next_state, gamma, lr):\n",
    "    max_future_q = np.max(q_table[next_state])\n",
    "    current_q = q_table[current_state+(action,)]\n",
    "    new_q = (1-lr)*current_q + lr*(reward + gamma*max_future_q)\n",
    "    q_table[current_state+(action,)] = new_q"
   ]
  },
  {
   "cell_type": "code",
   "execution_count": 17,
   "metadata": {},
   "outputs": [],
   "source": [
    "    \n",
    "def Q_learning(q_table, bins, episodes = 5000, gamma = 0.995, lr = 0.1, timestep = 5000, epsilon = 0.05):\n",
    "    rewards, timesWon, episodes_to_solve = 0, 0, 0\n",
    "    runs = []\n",
    "    data = {'max' : [], 'avg' : [], 'min': []}\n",
    "    solved = {'episodes' : [], 'timeMinutes': []}\n",
    "    process_time = time.time()\n",
    "\n",
    "    for episode in range(1,episodes+1):\n",
    "        current_state = Discrete(env.reset(),bins) # initial observation\n",
    "        score = 0\n",
    "        done = False\n",
    "        \n",
    "        while not done:  \n",
    "            action = epsilon_greedy_policy(current_state, q_table, epsilon)\n",
    "            obs, reward, done, info = env.step(action)\n",
    "            next_state = Discrete(obs,bins)\n",
    "            score += reward\n",
    "            \n",
    "            updateQtable(action, reward, current_state,next_state, gamma, lr)           \n",
    "\n",
    "            current_state = next_state\n",
    "            \n",
    "        # End of the loop update\n",
    "        else:\n",
    "            env.reset()\n",
    "            rewards += score\n",
    "            runs.append(score)\n",
    "        \n",
    "        # Timestep value update\n",
    "        if episode%timestep == 0:\n",
    "            episodes_to_solve, timesWon, epsilon = printImprovement(data, episode, rewards, timestep, runs, episodes_to_solve, process_time, timesWon, epsilon, solved)\n",
    "            rewards, runs= 0, []\n",
    "        \n",
    "        if timesWon == 5:\n",
    "            episodes_to_solve = episode\n",
    "            break\n",
    "\n",
    "    print('Solved ' + str(timesWon) + ' times in ' + str(solved))\n",
    "    plotLearning(data, episodes_to_solve, timestep)\n",
    "    env.close()"
   ]
  },
  {
   "cell_type": "code",
   "execution_count": 14,
   "metadata": {},
   "outputs": [
    {
     "name": "stdout",
     "output_type": "stream",
     "text": [
      "Episode : 1000 | Avg. Rewards -> 27.635 | Max reward : 116.0 | Min Reward : 9.0\n",
      "Episode : 2000 | Avg. Rewards -> 31.159 | Max reward : 113.0 | Min Reward : 9.0\n",
      "Episode : 3000 | Avg. Rewards -> 34.423 | Max reward : 125.0 | Min Reward : 10.0\n",
      "Episode : 4000 | Avg. Rewards -> 41.028 | Max reward : 134.0 | Min Reward : 10.0\n",
      "Episode : 5000 | Avg. Rewards -> 46.378 | Max reward : 146.0 | Min Reward : 10.0\n",
      "Episode : 6000 | Avg. Rewards -> 51.334 | Max reward : 202.0 | Min Reward : 10.0\n",
      "Episode : 7000 | Avg. Rewards -> 61.844 | Max reward : 282.0 | Min Reward : 10.0\n",
      "Episode : 8000 | Avg. Rewards -> 88.712 | Max reward : 500.0 | Min Reward : 9.0\n",
      "Episode : 9000 | Avg. Rewards -> 128.224 | Max reward : 500.0 | Min Reward : 22.0\n",
      "Episode : 10000 | Avg. Rewards -> 145.098 | Max reward : 500.0 | Min Reward : 22.0\n",
      "Episode : 11000 | Avg. Rewards -> 164.329 | Max reward : 500.0 | Min Reward : 19.0\n",
      "Episode : 12000 | Avg. Rewards -> 218.548 | Max reward : 500.0 | Min Reward : 23.0\n",
      "Episode : 13000 | Avg. Rewards -> 243.311 | Max reward : 500.0 | Min Reward : 27.0\n",
      "Episode : 14000 | Avg. Rewards -> 262.216 | Max reward : 500.0 | Min Reward : 28.0\n",
      "Episode : 15000 | Avg. Rewards -> 250.202 | Max reward : 500.0 | Min Reward : 36.0\n",
      "Episode : 16000 | Avg. Rewards -> 268.642 | Max reward : 500.0 | Min Reward : 39.0\n",
      "Episode : 17000 | Avg. Rewards -> 270.759 | Max reward : 500.0 | Min Reward : 29.0\n",
      "Episode : 18000 | Avg. Rewards -> 309.897 | Max reward : 500.0 | Min Reward : 36.0\n",
      "Episode : 19000 | Avg. Rewards -> 364.323 | Max reward : 500.0 | Min Reward : 37.0\n",
      "Episode : 20000 | Avg. Rewards -> 338.784 | Max reward : 500.0 | Min Reward : 38.0\n",
      "Episode : 21000 | Avg. Rewards -> 360.572 | Max reward : 500.0 | Min Reward : 36.0\n",
      "Episode : 22000 | Avg. Rewards -> 403.461 | Max reward : 500.0 | Min Reward : 36.0\n",
      "Episode : 23000 | Avg. Rewards -> 375.154 | Max reward : 500.0 | Min Reward : 47.0\n",
      "Episode : 24000 | Avg. Rewards -> 425.866 | Max reward : 500.0 | Min Reward : 28.0\n",
      "Episode : 25000 | Avg. Rewards -> 455.001 | Max reward : 500.0 | Min Reward : 48.0\n",
      "Episode : 26000 | Avg. Rewards -> 383.29 | Max reward : 500.0 | Min Reward : 38.0\n",
      "Episode : 27000 | Avg. Rewards -> 409.024 | Max reward : 500.0 | Min Reward : 40.0\n",
      "Episode : 28000 | Avg. Rewards -> 458.838 | Max reward : 500.0 | Min Reward : 53.0\n",
      "Episode : 29000 | Avg. Rewards -> 461.745 | Max reward : 500.0 | Min Reward : 54.0\n",
      "Episode : 30000 | Avg. Rewards -> 470.693 | Max reward : 500.0 | Min Reward : 52.0\n",
      "Episode : 31000 | Avg. Rewards -> 467.268 | Max reward : 500.0 | Min Reward : 25.0\n",
      "Episode : 32000 | Avg. Rewards -> 455.924 | Max reward : 500.0 | Min Reward : 34.0\n",
      "Episode : 33000 | Avg. Rewards -> 435.927 | Max reward : 500.0 | Min Reward : 50.0\n",
      "Episode : 34000 | Avg. Rewards -> 486.952 | Max reward : 500.0 | Min Reward : 19.0\n",
      "Solved in episode : 34000\n",
      "Episode : 35000 | Avg. Rewards -> 500.0 | Max reward : 500.0 | Min Reward : 500.0\n",
      "Solved in episode : 35000\n",
      "Episode : 36000 | Avg. Rewards -> 499.845 | Max reward : 500.0 | Min Reward : 345.0\n",
      "Solved in episode : 36000\n",
      "Episode : 37000 | Avg. Rewards -> 499.74 | Max reward : 500.0 | Min Reward : 318.0\n",
      "Solved in episode : 37000\n",
      "Episode : 38000 | Avg. Rewards -> 499.066 | Max reward : 500.0 | Min Reward : 137.0\n",
      "Solved in episode : 38000\n",
      "Solved 5 times in {'episodes': [34000, 35000, 36000, 37000, 38000], 'timeMinutes': [3.3, 3.47, 3.65, 3.82, 3.99]}\n"
     ]
    },
    {
     "data": {
      "image/png": "[encoded data removed]",
      "text/plain": [
       "<Figure size 432x288 with 1 Axes>"
      ]
     },
     "metadata": {
      "needs_background": "light"
     },
     "output_type": "display_data"
    }
   ],
   "source": [
    "# TRANING\n",
    "q_table, bins = Qtable(len(env.observation_space.low), env.action_space.n)\n",
    "Q_learning(q_table, bins, lr = 0.14, gamma = 0.995, episodes = 5*10**4, timestep = 1000, epsilon = 0.06)"
   ]
  },
  {
   "cell_type": "code",
   "execution_count": null,
   "metadata": {},
   "outputs": [],
   "source": []
  }
 ],
 "metadata": {
  "kernelspec": {
   "display_name": "Python 3.9.12 64-bit",
   "language": "python",
   "name": "python3"
  },
  "language_info": {
   "codemirror_mode": {
    "name": "ipython",
    "version": 3
   },
   "file_extension": ".py",
   "mimetype": "text/x-python",
   "name": "python",
   "nbconvert_exporter": "python",
   "pygments_lexer": "ipython3",
   "version": "3.9.12"
  },
  "orig_nbformat": 4,
  "vscode": {
   "interpreter": {
    "hash": "b0fa6594d8f4cbf19f97940f81e996739fb7646882a419484c72d19e05852a7e"
   }
  }
 },
 "nbformat": 4,
 "nbformat_minor": 2
}
