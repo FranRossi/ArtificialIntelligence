{
 "cells": [
  {
   "cell_type": "code",
   "execution_count": null,
   "metadata": {},
   "outputs": [],
   "source": [
    "# !pip install gym\n",
    "# !pip install pygame"
   ]
  },
  {
   "cell_type": "code",
   "execution_count": null,
   "metadata": {},
   "outputs": [],
   "source": [
    "# ! pip install matplotlib"
   ]
  },
  {
   "cell_type": "code",
   "execution_count": 27,
   "metadata": {},
   "outputs": [],
   "source": [
    "import gym\n",
    "import numpy as np \n",
    "import matplotlib.pyplot as plt\n",
    "import time"
   ]
  },
  {
   "cell_type": "code",
   "execution_count": 28,
   "metadata": {},
   "outputs": [
    {
     "name": "stdout",
     "output_type": "stream",
     "text": [
      "[-4.8000002e+00 -3.4028235e+38 -4.1887903e-01 -3.4028235e+38] \n",
      " [4.8000002e+00 3.4028235e+38 4.1887903e-01 3.4028235e+38]\n"
     ]
    }
   ],
   "source": [
    "env = gym.make('CartPole-v1')\n",
    "print(env.observation_space.low,\"\\n\",env.observation_space.high)"
   ]
  },
  {
   "cell_type": "code",
   "execution_count": 37,
   "metadata": {},
   "outputs": [],
   "source": [
    "state_space = 4 # number of states\n",
    "action_space = 2 # number of possible actions\n",
    "\n",
    "\n",
    "def Qtable(state_space,action_space,bin_size = 30):\n",
    "    \n",
    "    bins = [np.linspace(-4.8,4.8,bin_size),\n",
    "            np.linspace(-4,4,bin_size),\n",
    "            np.linspace(-0.418,0.418,bin_size),\n",
    "            np.linspace(-4,4,bin_size)]\n",
    "    \n",
    "    q_table = np.random.uniform(low=-1,high=1,size=([bin_size] * state_space + [action_space]))\n",
    "    return q_table, bins\n",
    "\n",
    "def Discrete(state, bins):\n",
    "    index = []\n",
    "    for i in range(len(state)): index.append(np.digitize(state[i],bins[i]) - 1)\n",
    "    return tuple(index)"
   ]
  },
  {
   "cell_type": "code",
   "execution_count": 42,
   "metadata": {},
   "outputs": [],
   "source": [
    "def Q_learning(q_table, bins, episodes = 5000, gamma = 0.95, lr = 0.1, timestep = 5000, epsilon = 0.2):\n",
    "    rewards = 0\n",
    "    solved = False \n",
    "    steps = 0 \n",
    "    runs = [0]\n",
    "    data = {'max' : [0], 'avg' : [0]}\n",
    "    start = time.time()\n",
    "    ep = [i for i in range(0,episodes + 1,timestep)] \n",
    "\n",
    "      \n",
    "    \n",
    "    for episode in range(1,episodes+1):\n",
    "        \n",
    "        current_state = Discrete(env.reset(),bins) # initial observation\n",
    "        score = 0\n",
    "        done = False\n",
    "        temp_start = time.time()\n",
    "        \n",
    "        while not done:\n",
    "            steps += 1 \n",
    "            ep_start = time.time()\n",
    "            # if episode%timestep == 0:\n",
    "            #     env.render()\n",
    "                \n",
    "            if np.random.uniform(0,1) < epsilon:\n",
    "                action = env.action_space.sample()\n",
    "            else:\n",
    "                action = np.argmax(q_table[current_state])\n",
    "            \n",
    "            observation, reward, done, info = env.step(action)\n",
    "            next_state = Discrete(observation,bins)\n",
    "\n",
    "            score += reward\n",
    "            \n",
    "\n",
    "            if not done:\n",
    "                max_future_q = np.max(q_table[next_state])\n",
    "                current_q = q_table[current_state+(action,)]\n",
    "                new_q = (1-lr)*current_q + lr*(reward + gamma*max_future_q)\n",
    "                q_table[current_state+(action,)] = new_q\n",
    "\n",
    "            current_state = next_state\n",
    "            \n",
    "        # End of the loop update\n",
    "        else:\n",
    "            rewards += score\n",
    "            runs.append(score)\n",
    "            #if score > 475 and steps >= 100 and solved == False: # considered as a solved:\n",
    "            if score > 475 and solved == False: # considered as a solved:\n",
    "                solved = True\n",
    "                print('Solved in episode : {} in time {}'.format(episode, (time.time()-ep_start)))\n",
    "        \n",
    "        # Timestep value update\n",
    "        if episode%timestep == 0:\n",
    "            print('Episode : {} | Reward -> {} | Max reward : {} | Time : {}'.format(episode,rewards/timestep, max(runs), time.time() - ep_start))\n",
    "            data['max'].append(max(runs))\n",
    "            data['avg'].append(rewards/timestep)\n",
    "            if rewards/timestep >= 475: \n",
    "                print('Solved in episode : {}'.format(episode))\n",
    "            rewards, runs= 0, [0] \n",
    "            \n",
    "    if len(ep) == len(data['max']):\n",
    "        plt.plot(ep, data['max'], label = 'Max')\n",
    "        plt.plot(ep, data['avg'], label = 'Avg')\n",
    "        plt.xlabel('Episode')\n",
    "        plt.ylabel('Reward')\n",
    "        plt.legend(loc = \"upper left\")\n",
    "        \n",
    "    env.close()"
   ]
  },
  {
   "cell_type": "code",
   "execution_count": 43,
   "metadata": {},
   "outputs": [
    {
     "name": "stdout",
     "output_type": "stream",
     "text": [
      "Solved in episode : 912 in time 4.5299530029296875e-05\n",
      "Episode : 1000 | Reward -> 61.612 | Max reward : 500.0 | Time : 7.009506225585938e-05\n",
      "Episode : 2000 | Reward -> 97.029 | Max reward : 500.0 | Time : 6.079673767089844e-05\n",
      "Episode : 3000 | Reward -> 115.851 | Max reward : 500.0 | Time : 8.630752563476562e-05\n",
      "Episode : 4000 | Reward -> 136.342 | Max reward : 500.0 | Time : 5.8650970458984375e-05\n",
      "Episode : 5000 | Reward -> 145.97 | Max reward : 500.0 | Time : 6.508827209472656e-05\n",
      "Episode : 6000 | Reward -> 172.805 | Max reward : 500.0 | Time : 7.486343383789062e-05\n",
      "Episode : 7000 | Reward -> 176.601 | Max reward : 500.0 | Time : 0.00011563301086425781\n",
      "Episode : 8000 | Reward -> 261.097 | Max reward : 500.0 | Time : 6.604194641113281e-05\n",
      "Episode : 9000 | Reward -> 339.885 | Max reward : 500.0 | Time : 7.724761962890625e-05\n",
      "Episode : 10000 | Reward -> 342.718 | Max reward : 500.0 | Time : 7.081031799316406e-05\n",
      "Episode : 11000 | Reward -> 338.957 | Max reward : 500.0 | Time : 7.653236389160156e-05\n",
      "Episode : 12000 | Reward -> 370.416 | Max reward : 500.0 | Time : 7.62939453125e-05\n",
      "Episode : 13000 | Reward -> 357.845 | Max reward : 500.0 | Time : 6.818771362304688e-05\n",
      "Episode : 14000 | Reward -> 353.413 | Max reward : 500.0 | Time : 8.416175842285156e-05\n",
      "Episode : 15000 | Reward -> 366.63 | Max reward : 500.0 | Time : 6.890296936035156e-05\n",
      "Episode : 16000 | Reward -> 355.22 | Max reward : 500.0 | Time : 6.866455078125e-05\n",
      "Episode : 17000 | Reward -> 372.105 | Max reward : 500.0 | Time : 7.033348083496094e-05\n",
      "Episode : 18000 | Reward -> 395.87 | Max reward : 500.0 | Time : 7.462501525878906e-05\n",
      "Episode : 19000 | Reward -> 416.525 | Max reward : 500.0 | Time : 6.246566772460938e-05\n",
      "Episode : 20000 | Reward -> 381.387 | Max reward : 500.0 | Time : 7.534027099609375e-05\n",
      "Episode : 21000 | Reward -> 412.755 | Max reward : 500.0 | Time : 7.05718994140625e-05\n",
      "Episode : 22000 | Reward -> 395.386 | Max reward : 500.0 | Time : 7.581710815429688e-05\n",
      "Episode : 23000 | Reward -> 397.106 | Max reward : 500.0 | Time : 7.414817810058594e-05\n",
      "Episode : 24000 | Reward -> 410.701 | Max reward : 500.0 | Time : 7.700920104980469e-05\n",
      "Episode : 25000 | Reward -> 432.237 | Max reward : 500.0 | Time : 7.390975952148438e-05\n",
      "Episode : 26000 | Reward -> 411.606 | Max reward : 500.0 | Time : 6.198883056640625e-05\n",
      "Episode : 27000 | Reward -> 407.827 | Max reward : 500.0 | Time : 0.00010251998901367188\n"
     ]
    }
   ],
   "source": [
    "# TRANING\n",
    "q_table, bins = Qtable(len(env.observation_space.low), env.action_space.n)\n",
    "\n",
    "Q_learning(q_table, bins, lr = 0.15, gamma = 0.995, episodes = 5*10**5, timestep = 1000)\n",
    "\n"
   ]
  },
  {
   "cell_type": "code",
   "execution_count": null,
   "metadata": {},
   "outputs": [],
   "source": []
  }
 ],
 "metadata": {
  "interpreter": {
   "hash": "e3240f94388efcc62be48edbcba9119757863add8d7dfebab53d57f92d8698f1"
  },
  "kernelspec": {
   "display_name": "Python 3",
   "language": "python",
   "name": "python3"
  },
  "orig_nbformat": 4
 },
 "nbformat": 4,
 "nbformat_minor": 2
}
