{
 "cells": [
  {
   "cell_type": "code",
   "execution_count": 19,
   "metadata": {},
   "outputs": [],
   "source": [
    "# !pip install gym\n",
    "# !pip install pygame\n",
    "# ! pip install matplotlib\n",
    "\n",
    "\n",
    "# https://www.gymlibrary.ml/environments/classic_control/cart_pole/?highlight=cart+pole"
   ]
  },
  {
   "cell_type": "code",
   "execution_count": 20,
   "metadata": {},
   "outputs": [],
   "source": [
    "import gym\n",
    "import numpy as np \n",
    "import matplotlib.pyplot as plt\n",
    "import time"
   ]
  },
  {
   "cell_type": "code",
   "execution_count": 21,
   "metadata": {},
   "outputs": [
    {
     "name": "stdout",
     "output_type": "stream",
     "text": [
      "[-4.8000002e+00 -3.4028235e+38 -4.1887903e-01 -3.4028235e+38] \n",
      " [4.8000002e+00 3.4028235e+38 4.1887903e-01 3.4028235e+38]\n"
     ]
    }
   ],
   "source": [
    "env = gym.make('CartPole-v1')\n",
    "print(env.observation_space.low,\"\\n\",env.observation_space.high)"
   ]
  },
  {
   "cell_type": "code",
   "execution_count": 22,
   "metadata": {},
   "outputs": [],
   "source": [
    "action_space = 2 # number of possible actions\n",
    "bin_size = 15\n",
    "\n",
    "overe0 = float(4)\n",
    "overe1 = float(4)/2**1\n",
    "overe2 = float(4)/2**2\n",
    "overe3 = float(4)/2**3\n",
    "overe4 = float(4)/2**4\n",
    "overe5 = float(4)/2**5\n",
    "overe6 = float(4)/2**6\n",
    "\n",
    "lin_space = [-overe0, -overe1, -overe2, -overe3, -overe4, -overe5, -overe6, 0, overe6, overe5, overe4, overe3, overe2, overe1, overe0]\n",
    "\n",
    "def Qtable(state_space,action_space,bin_size=15 ):\n",
    "    bins = [np.linspace(-2.4,2.4,bin_size),\n",
    "            lin_space,\n",
    "            np.linspace(-0.2095,0.2095,bin_size),\n",
    "            lin_space]\n",
    "   \n",
    "    q_table = np.random.uniform(low=-1,high=1,size=([len(bins[0]), len(bins[1]), len(bins[2]), len(bins[3])] + [action_space]))\n",
    "    return q_table, bins\n",
    "\n",
    "def Discrete(state, bins):\n",
    "    index = []\n",
    "    for i in range(len(state)): index.append(np.digitize(state[i],bins[i]) - 1)\n",
    "    return tuple(index)"
   ]
  },
  {
   "cell_type": "code",
   "execution_count": 23,
   "metadata": {},
   "outputs": [],
   "source": [
    "def epsilon_greedy_policy(state, Q, epsilon=0.1):\n",
    "    explore = np.random.binomial(1, epsilon)\n",
    "    if explore:\n",
    "        action = env.action_space.sample()\n",
    "    else:\n",
    "        action = np.argmax(Q[state])\n",
    "   \n",
    "    return action"
   ]
  },
  {
   "cell_type": "code",
   "execution_count": 24,
   "metadata": {},
   "outputs": [],
   "source": [
    "def plotLearning(data, episodes, timestep):\n",
    "    ep = [i for i in range(0,episodes,timestep)]\n",
    "    plt.plot(ep, data['max'], label = 'Max')\n",
    "    plt.plot(ep, data['avg'], label = 'Avg')\n",
    "    plt.plot(ep, data['min'], label = 'Min')\n",
    "    plt.xlabel('Episode')\n",
    "    plt.ylabel('Reward')\n",
    "    plt.legend(loc = \"upper left\") "
   ]
  },
  {
   "cell_type": "code",
   "execution_count": 25,
   "metadata": {},
   "outputs": [],
   "source": [
    "def updateQtable(action, reward, current_state, next_state, gamma, lr):\n",
    "    max_future_q = np.max(q_table[next_state])\n",
    "    current_q = q_table[current_state+(action,)]\n",
    "    new_q = (1-lr)*current_q + lr*(reward + gamma*max_future_q)\n",
    "    q_table[current_state+(action,)] = new_q"
   ]
  },
  {
   "cell_type": "code",
   "execution_count": 26,
   "metadata": {},
   "outputs": [],
   "source": [
    "    \n",
    "def Q_learning(q_table, bins, episodes = 5000, gamma = 0.95, lr = 0.1, timestep = 5000, epsilon = 0.05):\n",
    "    rewards = 0\n",
    "    runs = []\n",
    "    data = {'max' : [], 'avg' : [], 'min': []}\n",
    "    solved = {'episodes' : [], 'timeMinutes': []}\n",
    "    timesWon = 0 \n",
    "    episodes_to_solve = 0\n",
    "    process_time = time.time()\n",
    "\n",
    "    for episode in range(1,episodes+1):\n",
    "        current_state = Discrete(env.reset(),bins) # initial observation\n",
    "        score = 0\n",
    "        done = False\n",
    "        \n",
    "        while not done:\n",
    "            # ep_start = time.time()\n",
    "            # # if timesWon > 0:\n",
    "            # #     env.render()\n",
    "    \n",
    "            action = epsilon_greedy_policy(current_state, q_table, epsilon)\n",
    "            obs, reward, done, info = env.step(action)\n",
    "            next_state = Discrete(obs,bins)\n",
    "            score += reward\n",
    "            \n",
    "            updateQtable(action, reward, current_state,next_state, gamma, lr)           \n",
    "\n",
    "            current_state = next_state\n",
    "            \n",
    "        # End of the loop update\n",
    "        else:\n",
    "            # if score >= 500 or timesWon > 0:\n",
    "            #     epsilon = 0\n",
    "            # else:\n",
    "            #     epsilon = 0.06\n",
    "            env.reset()\n",
    "            rewards += score\n",
    "            runs.append(score)\n",
    "        \n",
    "        # Timestep value update\n",
    "        if episode%timestep == 0:\n",
    "            print('Episode : {} | Avg. Rewards -> {} | Max reward : {} | Min Reward : {}'.format(episode,rewards/timestep, max(runs), min(runs)))\n",
    "            data['max'].append(max(runs))\n",
    "            data['avg'].append(rewards/timestep)\n",
    "            data['min'].append(min(runs))\n",
    "            episodes_to_solve = episode\n",
    "            if rewards/timestep >= 475:\n",
    "                timesWon += 1 \n",
    "                print('Solved in episode : {}'.format(episode))\n",
    "                solved['episodes'].append(episode)\n",
    "                solved['timeMinutes'].append(round((time.time() - process_time)/60,2))\n",
    "                epsilon = 0.01\n",
    "\n",
    "            rewards, runs= 0, []\n",
    "            \n",
    "        if timesWon == 5:\n",
    "            episodes_to_solve = episode\n",
    "            break\n",
    "\n",
    "    print('Solved ' + str(timesWon) + ' times in ' + str(solved))\n",
    "    plotLearning(data, episodes_to_solve, timestep)\n",
    "    env.close()"
   ]
  },
  {
   "cell_type": "code",
   "execution_count": 27,
   "metadata": {},
   "outputs": [
    {
     "name": "stdout",
     "output_type": "stream",
     "text": [
      "Episode : 1000 | Avg. Rewards -> 31.023 | Max reward : 143.0 | Min Reward : 8.0\n",
      "Episode : 2000 | Avg. Rewards -> 34.418 | Max reward : 126.0 | Min Reward : 9.0\n",
      "Episode : 3000 | Avg. Rewards -> 56.367 | Max reward : 419.0 | Min Reward : 9.0\n",
      "Episode : 4000 | Avg. Rewards -> 101.806 | Max reward : 500.0 | Min Reward : 9.0\n",
      "Episode : 5000 | Avg. Rewards -> 136.797 | Max reward : 500.0 | Min Reward : 10.0\n",
      "Episode : 6000 | Avg. Rewards -> 183.133 | Max reward : 500.0 | Min Reward : 11.0\n",
      "Episode : 7000 | Avg. Rewards -> 203.054 | Max reward : 500.0 | Min Reward : 21.0\n",
      "Episode : 8000 | Avg. Rewards -> 215.845 | Max reward : 500.0 | Min Reward : 17.0\n",
      "Episode : 9000 | Avg. Rewards -> 226.182 | Max reward : 500.0 | Min Reward : 23.0\n",
      "Episode : 10000 | Avg. Rewards -> 243.341 | Max reward : 500.0 | Min Reward : 19.0\n",
      "Episode : 11000 | Avg. Rewards -> 259.105 | Max reward : 500.0 | Min Reward : 29.0\n",
      "Episode : 12000 | Avg. Rewards -> 331.108 | Max reward : 500.0 | Min Reward : 37.0\n",
      "Episode : 13000 | Avg. Rewards -> 281.239 | Max reward : 500.0 | Min Reward : 26.0\n",
      "Episode : 14000 | Avg. Rewards -> 370.553 | Max reward : 500.0 | Min Reward : 14.0\n",
      "Episode : 15000 | Avg. Rewards -> 319.44 | Max reward : 500.0 | Min Reward : 43.0\n",
      "Episode : 16000 | Avg. Rewards -> 312.68 | Max reward : 500.0 | Min Reward : 35.0\n",
      "Episode : 17000 | Avg. Rewards -> 340.974 | Max reward : 500.0 | Min Reward : 25.0\n",
      "Episode : 18000 | Avg. Rewards -> 415.947 | Max reward : 500.0 | Min Reward : 19.0\n",
      "Episode : 19000 | Avg. Rewards -> 394.08 | Max reward : 500.0 | Min Reward : 23.0\n",
      "Episode : 20000 | Avg. Rewards -> 320.774 | Max reward : 500.0 | Min Reward : 14.0\n",
      "Episode : 21000 | Avg. Rewards -> 410.146 | Max reward : 500.0 | Min Reward : 28.0\n",
      "Episode : 22000 | Avg. Rewards -> 404.918 | Max reward : 500.0 | Min Reward : 24.0\n",
      "Episode : 23000 | Avg. Rewards -> 380.919 | Max reward : 500.0 | Min Reward : 43.0\n",
      "Episode : 24000 | Avg. Rewards -> 405.455 | Max reward : 500.0 | Min Reward : 21.0\n",
      "Episode : 25000 | Avg. Rewards -> 455.18 | Max reward : 500.0 | Min Reward : 60.0\n",
      "Episode : 26000 | Avg. Rewards -> 443.618 | Max reward : 500.0 | Min Reward : 32.0\n",
      "Episode : 27000 | Avg. Rewards -> 435.15 | Max reward : 500.0 | Min Reward : 29.0\n",
      "Episode : 28000 | Avg. Rewards -> 477.535 | Max reward : 500.0 | Min Reward : 47.0\n",
      "Solved in episode : 28000\n",
      "Episode : 29000 | Avg. Rewards -> 499.78 | Max reward : 500.0 | Min Reward : 298.0\n",
      "Solved in episode : 29000\n",
      "Episode : 30000 | Avg. Rewards -> 499.902 | Max reward : 500.0 | Min Reward : 402.0\n",
      "Solved in episode : 30000\n",
      "Episode : 31000 | Avg. Rewards -> 499.325 | Max reward : 500.0 | Min Reward : 238.0\n",
      "Solved in episode : 31000\n",
      "Episode : 32000 | Avg. Rewards -> 499.697 | Max reward : 500.0 | Min Reward : 384.0\n",
      "Solved in episode : 32000\n",
      "Solved 5 times in {'episodes': [28000, 29000, 30000, 31000, 32000], 'timeMinutes': [2.93, 3.11, 3.28, 3.46, 3.64]}\n"
     ]
    },
    {
     "data": {
      "image/png": "[encoded data removed]",
      "text/plain": [
       "<Figure size 432x288 with 1 Axes>"
      ]
     },
     "metadata": {
      "needs_background": "light"
     },
     "output_type": "display_data"
    }
   ],
   "source": [
    "# TRANING\n",
    "q_table, bins = Qtable(len(env.observation_space.low), env.action_space.n)\n",
    "Q_learning(q_table, bins, lr = 0.14, gamma = 0.995, episodes = 2*10**5, timestep = 1000, epsilon = 0.06)"
   ]
  }
 ],
 "metadata": {
  "kernelspec": {
   "display_name": "Python 3.10.2 64-bit",
   "language": "python",
   "name": "python3"
  },
  "language_info": {
   "codemirror_mode": {
    "name": "ipython",
    "version": 3
   },
   "file_extension": ".py",
   "mimetype": "text/x-python",
   "name": "python",
   "nbconvert_exporter": "python",
   "pygments_lexer": "ipython3",
   "version": "3.10.2"
  },
  "orig_nbformat": 4,
  "vscode": {
   "interpreter": {
    "hash": "aee8b7b246df8f9039afb4144a1f6fd8d2ca17a180786b69acc140d282b71a49"
   }
  }
 },
 "nbformat": 4,
 "nbformat_minor": 2
}
