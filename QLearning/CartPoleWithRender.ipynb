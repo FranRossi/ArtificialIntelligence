{
 "cells": [
  {
   "cell_type": "code",
   "execution_count": null,
   "metadata": {},
   "outputs": [],
   "source": [
    "# !pip install gym\n",
    "# !pip install pygame\n",
    "# ! pip install matplotlib\n",
    "\n",
    "\n",
    "# https://www.gymlibrary.ml/environments/classic_control/cart_pole/?highlight=cart+pole"
   ]
  },
  {
   "cell_type": "code",
   "execution_count": 1,
   "metadata": {},
   "outputs": [],
   "source": [
    "import gym\n",
    "import numpy as np \n",
    "import matplotlib.pyplot as plt\n",
    "import time"
   ]
  },
  {
   "cell_type": "code",
   "execution_count": 2,
   "metadata": {},
   "outputs": [
    {
     "name": "stdout",
     "output_type": "stream",
     "text": [
      "[-4.8000002e+00 -3.4028235e+38 -4.1887903e-01 -3.4028235e+38] \n",
      " [4.8000002e+00 3.4028235e+38 4.1887903e-01 3.4028235e+38]\n"
     ]
    }
   ],
   "source": [
    "env = gym.make('CartPole-v1')\n",
    "print(env.observation_space.low,\"\\n\",env.observation_space.high)"
   ]
  },
  {
   "cell_type": "code",
   "execution_count": 3,
   "metadata": {},
   "outputs": [],
   "source": [
    "action_space = 2 # number of possible actions\n",
    "bin_size = 4\n",
    "infinity_linspace_limit = 4\n",
    "\n",
    "overe0 = float(4)\n",
    "overe1 = float(4)/np.exp(1)\n",
    "overe2 = float(4)/np.exp(2)\n",
    "overe3 = float(4)/np.exp(3)\n",
    "overe4 = float(4)/np.exp(4)\n",
    "overe5 = float(4)/np.exp(5)\n",
    "overe6 = float(4)/np.exp(6)\n",
    "\n",
    "lin_space = [-overe0, -overe1, -overe2, -overe3, -overe4, -overe5, -overe6, 0, overe6, overe5, overe4, overe3, overe2, overe1, overe0]\n",
    "\n",
    "def Qtable(state_space,action_space,bin_size = 15):\n",
    "\n",
    "    # bins = [np.linspace(-2.4,2.4,bin_size),\n",
    "    #         lin_space,\n",
    "    #         np.linspace(-0.2095,0.2095,bin_size),\n",
    "    #         lin_space]\n",
    "    bins = [np.linspace(-2.4,2.4,bin_size),\n",
    "            np.linspace(-infinity_linspace_limit,infinity_linspace_limit,bin_size),\n",
    "            np.linspace(-0.2095,0.2095,bin_size),\n",
    "            np.linspace(-infinity_linspace_limit,infinity_linspace_limit,bin_size)]\n",
    "    \n",
    "    q_table = np.random.uniform(low=-1,high=1,size=([len(bins[0]), len(bins[1]), len(bins[2]), len(bins[3])] + [action_space]))\n",
    "\n",
    "    return q_table, bins\n",
    "\n",
    "def Discrete(state, bins):\n",
    "    index = []\n",
    "    for i in range(len(state)): index.append(np.digitize(state[i],bins[i]) - 1)\n",
    "    return tuple(index)"
   ]
  },
  {
   "cell_type": "code",
   "execution_count": 4,
   "metadata": {},
   "outputs": [],
   "source": [
    "def epsilon_greedy_policy(state, Q, epsilon=0.1):\n",
    "    explore = np.random.binomial(1, epsilon)\n",
    "    if explore:\n",
    "        action = env.action_space.sample()\n",
    "        # print('explore')\n",
    "    else:\n",
    "        action = np.argmax(Q[state])\n",
    "        # print('exploit')\n",
    "    return action\n",
    "    \n",
    "def Q_learning(q_table, bins, episodes = 5000, gamma = 0.95, lr = 0.1, timestep = 5000, epsilon = 0.2):\n",
    "    rewards = 0\n",
    "    solved = False \n",
    "    steps = 0 \n",
    "    runs = [0]\n",
    "    data = {'max' : [0], 'avg' : [0]}\n",
    "    start = time.time()\n",
    "    ep = [i for i in range(0,episodes + 1,timestep)] \n",
    "\n",
    "    \n",
    "    for episode in range(1,episodes+1):\n",
    "        \n",
    "        current_state = Discrete(env.reset(),bins) # initial observation\n",
    "        score = 0\n",
    "        done = False\n",
    "        # temp_start = time.time()\n",
    "        \n",
    "        while not done:\n",
    "            steps += 1 \n",
    "            ep_start = time.time()\n",
    "            # if episode%timestep == 0:\n",
    "            #     env.render()\n",
    "                \n",
    "            action = epsilon_greedy_policy(current_state, q_table, epsilon)\n",
    "            # if np.random.uniform(0,1) < epsilon:\n",
    "            #     action = env.action_space.sample()\n",
    "            #     print('explore')\n",
    "            # else:\n",
    "            #     action = np.argmax(q_table[current_state])\n",
    "            #     print('exploit')\n",
    "            \n",
    "            obs, reward, done, info = env.step(action)\n",
    "            # print('->', current_state, action, reward, obs, done, info)\n",
    "            next_state = Discrete(obs,bins)\n",
    "\n",
    "            # if observation[0] > 2.4 or observation[0] < -2.4 or observation[2] > 0.2095 or observation[2] < -0.2095:\n",
    "            #     reward = 0\n",
    "\n",
    "            score += reward\n",
    "            \n",
    "            if not done:\n",
    "                max_future_q = np.max(q_table[next_state])\n",
    "                current_q = q_table[current_state+(action,)]\n",
    "                new_q = (1-lr)*current_q + lr*(reward + gamma*max_future_q)\n",
    "                q_table[current_state+(action,)] = new_q\n",
    "\n",
    "            current_state = next_state\n",
    "            \n",
    "        # End of the loop update\n",
    "        else:\n",
    "            rewards += score\n",
    "            runs.append(score)\n",
    "            #if score > 475 and steps >= 100 and solved == False: # considered as a solved:\n",
    "            if score > 475 and solved == False: # considered as a solved:\n",
    "                solved = True\n",
    "                print('Solved in episode : {} in time {}'.format(episode, (time.time()-ep_start)))\n",
    "        \n",
    "        # Timestep value update\n",
    "        if episode%timestep == 0:\n",
    "            print('Episode : {} | Reward -> {} | Max reward : {} | Time : {}'.format(episode,rewards/timestep, max(runs), time.time() - ep_start))\n",
    "            data['max'].append(max(runs))\n",
    "            data['avg'].append(rewards/timestep)\n",
    "            if rewards/timestep >= 475: \n",
    "                print('Solved in episode : {}'.format(episode))\n",
    "            rewards, runs= 0, [0] \n",
    "            \n",
    "    if len(ep) == len(data['max']):\n",
    "        plt.plot(ep, data['max'], label = 'Max')\n",
    "        plt.plot(ep, data['avg'], label = 'Avg')\n",
    "        plt.xlabel('Episode')\n",
    "        plt.ylabel('Reward')\n",
    "        plt.legend(loc = \"upper left\")\n",
    "        \n",
    "    env.close()"
   ]
  },
  {
   "cell_type": "code",
   "execution_count": 5,
   "metadata": {},
   "outputs": [
    {
     "name": "stdout",
     "output_type": "stream",
     "text": [
      "Episode : 1000 | Reward -> 53.124 | Max reward : 257.0 | Time : 7.05718994140625e-05\n",
      "Episode : 2000 | Reward -> 83.67 | Max reward : 201.0 | Time : 0.0001232624053955078\n",
      "Episode : 3000 | Reward -> 108.395 | Max reward : 226.0 | Time : 0.0001392364501953125\n",
      "Episode : 4000 | Reward -> 123.551 | Max reward : 249.0 | Time : 7.462501525878906e-05\n",
      "Solved in episode : 4632 in time 5.054473876953125e-05\n",
      "Episode : 5000 | Reward -> 142.629 | Max reward : 500.0 | Time : 7.009506225585938e-05\n",
      "Episode : 6000 | Reward -> 157.681 | Max reward : 500.0 | Time : 9.584426879882812e-05\n"
     ]
    }
   ],
   "source": [
    "# TRANING\n",
    "q_table, bins = Qtable(len(env.observation_space.low), env.action_space.n)\n",
    "Q_learning(q_table, bins, lr = 0.1, gamma = 0.995, episodes = 5*10**5, timestep = 1000, epsilon = 0.1)"
   ]
  },
  {
   "cell_type": "code",
   "execution_count": null,
   "metadata": {},
   "outputs": [],
   "source": []
  }
 ],
 "metadata": {
  "interpreter": {
   "hash": "e3240f94388efcc62be48edbcba9119757863add8d7dfebab53d57f92d8698f1"
  },
  "kernelspec": {
   "display_name": "Python 3",
   "language": "python",
   "name": "python3"
  },
  "language_info": {
   "codemirror_mode": {
    "name": "ipython",
    "version": 3
   },
   "file_extension": ".py",
   "mimetype": "text/x-python",
   "name": "python",
   "nbconvert_exporter": "python",
   "pygments_lexer": "ipython3",
   "version": "3.7.3"
  },
  "orig_nbformat": 4
 },
 "nbformat": 4,
 "nbformat_minor": 2
}
