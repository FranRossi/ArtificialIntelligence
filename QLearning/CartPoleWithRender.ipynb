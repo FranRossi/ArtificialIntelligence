{
 "cells": [
  {
   "cell_type": "code",
   "execution_count": 1,
   "metadata": {},
   "outputs": [],
   "source": [
    "# !pip install gym\n",
    "# !pip install pygame\n",
    "# ! pip install matplotlib\n",
    "\n",
    "\n",
    "# https://www.gymlibrary.ml/environments/classic_control/cart_pole/?highlight=cart+pole"
   ]
  },
  {
   "cell_type": "code",
   "execution_count": 2,
   "metadata": {},
   "outputs": [],
   "source": [
    "import gym\n",
    "import numpy as np \n",
    "import matplotlib.pyplot as plt\n",
    "import time"
   ]
  },
  {
   "cell_type": "code",
   "execution_count": 3,
   "metadata": {},
   "outputs": [
    {
     "name": "stdout",
     "output_type": "stream",
     "text": [
      "[-4.8000002e+00 -3.4028235e+38 -4.1887903e-01 -3.4028235e+38] \n",
      " [4.8000002e+00 3.4028235e+38 4.1887903e-01 3.4028235e+38]\n"
     ]
    }
   ],
   "source": [
    "env = gym.make('CartPole-v1')\n",
    "print(env.observation_space.low,\"\\n\",env.observation_space.high)"
   ]
  },
  {
   "cell_type": "code",
   "execution_count": 4,
   "metadata": {},
   "outputs": [],
   "source": [
    "action_space = 2 # number of possible actions\n",
    "bin_size = 15\n",
    "\n",
    "overe0 = float(4)\n",
    "overe1 = float(4)/2**1\n",
    "overe2 = float(4)/2**2\n",
    "overe3 = float(4)/2**3\n",
    "overe4 = float(4)/2**4\n",
    "overe5 = float(4)/2**5\n",
    "overe6 = float(4)/2**6\n",
    "\n",
    "lin_space = [-overe0, -overe1, -overe2, -overe3, -overe4, -overe5, -overe6, 0, overe6, overe5, overe4, overe3, overe2, overe1, overe0]\n",
    "\n",
    "def Qtable(state_space,action_space,bin_size=15 ):\n",
    "    bins = [np.linspace(-2.4,2.4,bin_size),\n",
    "            lin_space,\n",
    "            np.linspace(-0.2095,0.2095,bin_size),\n",
    "            lin_space]\n",
    "   \n",
    "    q_table = np.random.uniform(low=-1,high=1,size=([len(bins[0]), len(bins[1]), len(bins[2]), len(bins[3])] + [action_space]))\n",
    "    return q_table, bins\n",
    "\n",
    "def Discrete(state, bins):\n",
    "    index = []\n",
    "    for i in range(len(state)): index.append(np.digitize(state[i],bins[i]) - 1)\n",
    "    return tuple(index)"
   ]
  },
  {
   "cell_type": "code",
   "execution_count": 5,
   "metadata": {},
   "outputs": [],
   "source": [
    "def epsilon_greedy_policy(state, Q, epsilon=0.1):\n",
    "    explore = np.random.binomial(1, epsilon)\n",
    "    if explore:\n",
    "        action = env.action_space.sample()\n",
    "    else:\n",
    "        action = np.argmax(Q[state])\n",
    "   \n",
    "    return action"
   ]
  },
  {
   "cell_type": "code",
   "execution_count": 6,
   "metadata": {},
   "outputs": [],
   "source": [
    "def plotLearning(data, episodes, timestep):\n",
    "    ep = [i for i in range(0,episodes + 1,timestep)]\n",
    "    plt.plot(ep, data['max'], label = 'Max')\n",
    "    plt.plot(ep, data['avg'], label = 'Avg')\n",
    "    plt.xlabel('Episode')\n",
    "    plt.ylabel('Reward')\n",
    "    plt.legend(loc = \"upper left\") "
   ]
  },
  {
   "cell_type": "code",
   "execution_count": 7,
   "metadata": {},
   "outputs": [],
   "source": [
    "def updateQtable(action, reward, current_state,next_state, gamma, lr):\n",
    "    max_future_q = np.max(q_table[next_state])\n",
    "    current_q = q_table[current_state+(action,)]\n",
    "    new_q = (1-lr)*current_q + lr*(reward + gamma*max_future_q)\n",
    "    q_table[current_state+(action,)] = new_q"
   ]
  },
  {
   "cell_type": "code",
   "execution_count": 8,
   "metadata": {},
   "outputs": [],
   "source": [
    "    \n",
    "def Q_learning(q_table, bins, episodes = 5000, gamma = 0.95, lr = 0.1, timestep = 5000, epsilon = 0.05):\n",
    "    rewards = 0\n",
    "    runs = [0]\n",
    "    data = {'max' : [0], 'avg' : [0]}\n",
    "    solved = {'episodes' : [], 'timeMinutes': []}\n",
    "    timesWon = 0 \n",
    "    episodes_to_solve = 0\n",
    "    process_time = time.time()\n",
    "\n",
    "    for episode in range(1,episodes+1):\n",
    "        current_state = Discrete(env.reset(),bins) # initial observation\n",
    "        score = 0\n",
    "        done = False\n",
    "        \n",
    "        while not done:\n",
    "            ep_start = time.time()\n",
    "            # if timesWon > 0:\n",
    "            #     env.render()\n",
    "    \n",
    "            action = epsilon_greedy_policy(current_state, q_table, epsilon)\n",
    "            obs, reward, done, info = env.step(action)\n",
    "            next_state = Discrete(obs,bins)\n",
    "            score += reward\n",
    "            \n",
    "            updateQtable(action, reward, current_state,next_state, gamma, lr)\n",
    "            current_state = next_state\n",
    "            \n",
    "        # End of the loop update\n",
    "        else:\n",
    "            if score >= 500:\n",
    "                epsilon = 0\n",
    "            else:\n",
    "                epsilon = 0.06\n",
    "            env.reset()\n",
    "            rewards += score\n",
    "            runs.append(score)\n",
    "        \n",
    "        # Timestep value update\n",
    "        if episode%timestep == 0:\n",
    "            print('Episode : {} | Avg. Rewards -> {} | Max reward : {} | Time : {}'.format(episode,rewards/timestep, max(runs), time.time() - ep_start))\n",
    "            data['max'].append(max(runs))\n",
    "            data['avg'].append(rewards/timestep)\n",
    "            episodes_to_solve = episode\n",
    "            if rewards/timestep >= 475:\n",
    "                timesWon += 1 \n",
    "                print('Solved in episode : {}'.format(episode))\n",
    "                solved['episodes'].append(episode)\n",
    "                solved['timeMinutes'].append(round((time.time() - process_time)/60,2))\n",
    "                epsilon = 0\n",
    "\n",
    "            rewards, runs= 0, [0]\n",
    "            \n",
    "        if timesWon == 5:\n",
    "            episodes_to_solve = episode\n",
    "            break\n",
    "\n",
    "    plotLearning(data, episodes_to_solve, timestep)\n",
    "    print('Solved ' + str(timesWon) + ' times in ' + str(solved))\n",
    "    env.close()"
   ]
  },
  {
   "cell_type": "code",
   "execution_count": 9,
   "metadata": {},
   "outputs": [
    {
     "name": "stdout",
     "output_type": "stream",
     "text": [
      "Episode : 1000 | Avg. Rewards -> 24.379 | Max reward : 180.0 | Time : 0.00013828277587890625\n",
      "Episode : 2000 | Avg. Rewards -> 31.91 | Max reward : 212.0 | Time : 0.00019073486328125\n",
      "Episode : 3000 | Avg. Rewards -> 58.679 | Max reward : 347.0 | Time : 0.00011968612670898438\n",
      "Episode : 4000 | Avg. Rewards -> 83.2 | Max reward : 324.0 | Time : 0.00015425682067871094\n",
      "Episode : 5000 | Avg. Rewards -> 90.575 | Max reward : 335.0 | Time : 0.00013494491577148438\n",
      "Episode : 6000 | Avg. Rewards -> 135.744 | Max reward : 500.0 | Time : 0.00011849403381347656\n",
      "Episode : 7000 | Avg. Rewards -> 187.355 | Max reward : 500.0 | Time : 0.0002009868621826172\n",
      "Episode : 8000 | Avg. Rewards -> 242.227 | Max reward : 500.0 | Time : 0.00016117095947265625\n",
      "Episode : 9000 | Avg. Rewards -> 305.5 | Max reward : 500.0 | Time : 0.00019741058349609375\n",
      "Episode : 10000 | Avg. Rewards -> 364.79 | Max reward : 500.0 | Time : 0.0001811981201171875\n",
      "Episode : 11000 | Avg. Rewards -> 428.779 | Max reward : 500.0 | Time : 0.00013017654418945312\n",
      "Episode : 12000 | Avg. Rewards -> 394.991 | Max reward : 500.0 | Time : 0.0001246929168701172\n",
      "Episode : 13000 | Avg. Rewards -> 394.923 | Max reward : 500.0 | Time : 0.00015616416931152344\n",
      "Episode : 14000 | Avg. Rewards -> 471.32 | Max reward : 500.0 | Time : 0.0001201629638671875\n",
      "Episode : 15000 | Avg. Rewards -> 488.276 | Max reward : 500.0 | Time : 0.00015282630920410156\n",
      "Solved in episode : 15000\n",
      "Episode : 16000 | Avg. Rewards -> 468.072 | Max reward : 500.0 | Time : 0.00011515617370605469\n",
      "Episode : 17000 | Avg. Rewards -> 478.521 | Max reward : 500.0 | Time : 0.0001499652862548828\n",
      "Solved in episode : 17000\n",
      "Episode : 18000 | Avg. Rewards -> 499.245 | Max reward : 500.0 | Time : 0.00015282630920410156\n",
      "Solved in episode : 18000\n",
      "Episode : 19000 | Avg. Rewards -> 498.844 | Max reward : 500.0 | Time : 0.00014638900756835938\n",
      "Solved in episode : 19000\n",
      "Episode : 20000 | Avg. Rewards -> 497.339 | Max reward : 500.0 | Time : 0.0001220703125\n",
      "Solved in episode : 20000\n",
      "Solved 5 times in {'episodes': [15000, 17000, 18000, 19000, 20000], 'timeMinutes': [4.83, 5.9, 6.47, 7.04, 7.6]}\n"
     ]
    },
    {
     "data": {
      "image/png": "[encoded data removed]",
      "text/plain": [
       "<Figure size 432x288 with 1 Axes>"
      ]
     },
     "metadata": {
      "needs_background": "light"
     },
     "output_type": "display_data"
    }
   ],
   "source": [
    "# TRANING\n",
    "q_table, bins = Qtable(len(env.observation_space.low), env.action_space.n)\n",
    "Q_learning(q_table, bins, lr = 0.14, gamma = 0.995, episodes = 2*10**5, timestep = 1000, epsilon = 0.06)"
   ]
  }
 ],
 "metadata": {
  "interpreter": {
   "hash": "e3240f94388efcc62be48edbcba9119757863add8d7dfebab53d57f92d8698f1"
  },
  "kernelspec": {
   "display_name": "Python 3",
   "language": "python",
   "name": "python3"
  },
  "language_info": {
   "codemirror_mode": {
    "name": "ipython",
    "version": 3
   },
   "file_extension": ".py",
   "mimetype": "text/x-python",
   "name": "python",
   "nbconvert_exporter": "python",
   "pygments_lexer": "ipython3",
   "version": "3.7.3"
  },
  "orig_nbformat": 4
 },
 "nbformat": 4,
 "nbformat_minor": 2
}
