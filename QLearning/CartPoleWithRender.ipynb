{
 "cells": [
  {
   "cell_type": "code",
   "execution_count": 1,
   "metadata": {},
   "outputs": [],
   "source": [
    "# !pip install gym\n",
    "# !pip install pygame\n",
    "# ! pip install matplotlib\n",
    "\n",
    "\n",
    "# https://www.gymlibrary.ml/environments/classic_control/cart_pole/?highlight=cart+pole"
   ]
  },
  {
   "cell_type": "code",
   "execution_count": 2,
   "metadata": {},
   "outputs": [
    {
     "name": "stderr",
     "output_type": "stream",
     "text": [
      "c:\\Users\\rossi\\AppData\\Local\\Programs\\Python\\Python310\\lib\\site-packages\\gym\\wrappers\\monitoring\\video_recorder.py:9: DeprecationWarning: The distutils package is deprecated and slated for removal in Python 3.12. Use setuptools or check PEP 632 for potential alternatives\n",
      "  import distutils.spawn\n"
     ]
    }
   ],
   "source": [
    "import gym\n",
    "import numpy as np \n",
    "import matplotlib.pyplot as plt\n",
    "import time"
   ]
  },
  {
   "cell_type": "code",
   "execution_count": 3,
   "metadata": {},
   "outputs": [
    {
     "name": "stdout",
     "output_type": "stream",
     "text": [
      "[-4.8000002e+00 -3.4028235e+38 -4.1887903e-01 -3.4028235e+38] \n",
      " [4.8000002e+00 3.4028235e+38 4.1887903e-01 3.4028235e+38]\n"
     ]
    }
   ],
   "source": [
    "env = gym.make('CartPole-v1')\n",
    "print(env.observation_space.low,\"\\n\",env.observation_space.high)"
   ]
  },
  {
   "cell_type": "code",
   "execution_count": 4,
   "metadata": {},
   "outputs": [],
   "source": [
    "action_space = 2 # number of possible actions\n",
    "bin_size = 4\n",
    "infinity_linspace_limit = 4\n",
    "\n",
    "overe0 = float(4)\n",
    "overe1 = float(4)/2**1\n",
    "overe2 = float(4)/2**2\n",
    "overe3 = float(4)/2**3\n",
    "overe4 = float(4)/2**4\n",
    "overe5 = float(4)/2**5\n",
    "overe6 = float(4)/2**6\n",
    "\n",
    "lin_space = [-overe0, -overe1, -overe2, -overe3, -overe4, -overe5, -overe6, 0, overe6, overe5, overe4, overe3, overe2, overe1, overe0]\n",
    "\n",
    "def Qtable(state_space,action_space,bin_size = 15):\n",
    "\n",
    "    bins = [np.linspace(-2.4,2.4,bin_size),\n",
    "            lin_space,\n",
    "            np.linspace(-0.2095,0.2095,bin_size),\n",
    "            lin_space]\n",
    "    # bins = [np.linspace(-2.4,2.4,bin_size),\n",
    "    #         np.linspace(-infinity_linspace_limit,infinity_linspace_limit,bin_size),\n",
    "    #         np.linspace(-0.2095,0.2095,bin_size),\n",
    "    #         np.linspace(-infinity_linspace_limit,infinity_linspace_limit,bin_size)]\n",
    "    \n",
    "    q_table = np.random.uniform(low=-1,high=1,size=([len(bins[0]), len(bins[1]), len(bins[2]), len(bins[3])] + [action_space]))\n",
    "\n",
    "    return q_table, bins\n",
    "\n",
    "def Discrete(state, bins):\n",
    "    index = []\n",
    "    for i in range(len(state)): index.append(np.digitize(state[i],bins[i]) - 1)\n",
    "    return tuple(index)"
   ]
  },
  {
   "cell_type": "code",
   "execution_count": 5,
   "metadata": {},
   "outputs": [],
   "source": [
    "def epsilon_greedy_policy(state, Q, epsilon=0.1):\n",
    "    explore = np.random.binomial(1, epsilon)\n",
    "    if explore:\n",
    "        action = env.action_space.sample()\n",
    "    else:\n",
    "        action = np.argmax(Q[state])\n",
    "   \n",
    "    return action"
   ]
  },
  {
   "cell_type": "code",
   "execution_count": 6,
   "metadata": {},
   "outputs": [],
   "source": [
    "def plotLearning(data, ep):\n",
    "        plt.plot(ep, data['max'], label = 'Max')\n",
    "        plt.plot(ep, data['avg'], label = 'Avg')\n",
    "        plt.xlabel('Episode')\n",
    "        plt.ylabel('Reward')\n",
    "        plt.legend(loc = \"upper left\")"
   ]
  },
  {
   "cell_type": "code",
   "execution_count": 13,
   "metadata": {},
   "outputs": [],
   "source": [
    "    \n",
    "def Q_learning(q_table, bins, episodes = 5000, gamma = 0.95, lr = 0.1, timestep = 5000, epsilon = 0.2):\n",
    "    rewards = 0\n",
    "    solved = False \n",
    "    runs = [0]\n",
    "    data = {'max' : [0], 'avg' : [0]}\n",
    "    ep = [i for i in range(0,episodes + 1,timestep)] \n",
    "\n",
    "    \n",
    "    for episode in range(1,episodes+1):\n",
    "        current_state = Discrete(env.reset(),bins) # initial observation\n",
    "        score = 0\n",
    "        done = False\n",
    "        \n",
    "        while not done:\n",
    "            ep_start = time.time()\n",
    "            # if episode%timestep == 0:\n",
    "            #     env.render()\n",
    "                \n",
    "            action = epsilon_greedy_policy(current_state, q_table, epsilon)\n",
    "            \n",
    "            obs, reward, done, info = env.step(action)\n",
    "            next_state = Discrete(obs,bins)\n",
    "\n",
    "            score += reward\n",
    "            \n",
    "            # if not done:\n",
    "            max_future_q = np.max(q_table[next_state])\n",
    "            current_q = q_table[current_state+(action,)]\n",
    "            new_q = (1-lr)*current_q + lr*(reward + gamma*max_future_q)\n",
    "            q_table[current_state+(action,)] = new_q\n",
    "\n",
    "            current_state = next_state\n",
    "            \n",
    "        # End of the loop update\n",
    "        else:\n",
    "            env.reset()\n",
    "            rewards += score\n",
    "            runs.append(score)\n",
    "\n",
    "            if score > 500 and solved == False: # considered as a solved:\n",
    "                solved = True\n",
    "                print('Solved in episode : {} in time {}'.format(episode, (time.time()-ep_start)))\n",
    "        \n",
    "        # Timestep value update\n",
    "        if episode%timestep == 0:\n",
    "            print('Episode : {} | Avg. Rewards -> {} | Max reward : {} | Time : {}'.format(episode,rewards/timestep, max(runs), time.time() - ep_start))\n",
    "            data['max'].append(max(runs))\n",
    "            data['avg'].append(rewards/timestep)\n",
    "            if rewards/timestep >= 475: \n",
    "                print('Solved in episode : {}'.format(episode))\n",
    "            rewards, runs= 0, [0]\n",
    "            print(len(data['max'])) \n",
    "\n",
    "          \n",
    "    if len(ep) == len(data['max']):\n",
    "        plt.plot(ep, data['max'], label = 'Max')\n",
    "        plt.plot(ep, data['avg'], label = 'Avg')\n",
    "        plt.xlabel('Episode')\n",
    "        plt.ylabel('Reward')\n",
    "        plt.legend(loc = \"upper left\")\n",
    "        \n",
    "    env.close()"
   ]
  },
  {
   "cell_type": "code",
   "execution_count": 14,
   "metadata": {},
   "outputs": [
    {
     "name": "stdout",
     "output_type": "stream",
     "text": [
      "Episode : 1000 | Avg. Rewards -> 30.717 | Max reward : 140.0 | Time : 0.0009589195251464844\n",
      "2\n",
      "Episode : 2000 | Avg. Rewards -> 28.718 | Max reward : 147.0 | Time : 0.0\n",
      "2\n",
      "Episode : 3000 | Avg. Rewards -> 39.484 | Max reward : 161.0 | Time : 0.0\n",
      "2\n",
      "Episode : 4000 | Avg. Rewards -> 48.675 | Max reward : 244.0 | Time : 0.0\n",
      "2\n",
      "Episode : 5000 | Avg. Rewards -> 55.81 | Max reward : 215.0 | Time : 0.0\n",
      "2\n",
      "Episode : 6000 | Avg. Rewards -> 65.685 | Max reward : 327.0 | Time : 0.0\n",
      "2\n"
     ]
    },
    {
     "ename": "KeyboardInterrupt",
     "evalue": "",
     "output_type": "error",
     "traceback": [
      "\u001b[1;31m---------------------------------------------------------------------------\u001b[0m",
      "\u001b[1;31mKeyboardInterrupt\u001b[0m                         Traceback (most recent call last)",
      "\u001b[1;32mc:\\Users\\rossi\\OneDrive - Facultad de Ingenieria - Universidad ORT Uruguay\\ORT\\Semestre07\\InteligenciaArtificial\\Obligatorio\\ArtificialIntelligence\\QLearning\\CartPoleWithRender.ipynb Cell 8'\u001b[0m in \u001b[0;36m<cell line: 4>\u001b[1;34m()\u001b[0m\n\u001b[0;32m      <a href='vscode-notebook-cell:/c%3A/Users/rossi/OneDrive%20-%20Facultad%20de%20Ingenieria%20-%20Universidad%20ORT%20Uruguay/ORT/Semestre07/InteligenciaArtificial/Obligatorio/ArtificialIntelligence/QLearning/CartPoleWithRender.ipynb#ch0000005?line=1'>2</a>\u001b[0m q_table, bins \u001b[39m=\u001b[39m Qtable(\u001b[39mlen\u001b[39m(env\u001b[39m.\u001b[39mobservation_space\u001b[39m.\u001b[39mlow), env\u001b[39m.\u001b[39maction_space\u001b[39m.\u001b[39mn)\n\u001b[0;32m      <a href='vscode-notebook-cell:/c%3A/Users/rossi/OneDrive%20-%20Facultad%20de%20Ingenieria%20-%20Universidad%20ORT%20Uruguay/ORT/Semestre07/InteligenciaArtificial/Obligatorio/ArtificialIntelligence/QLearning/CartPoleWithRender.ipynb#ch0000005?line=2'>3</a>\u001b[0m \u001b[39m# Q_learning(q_table, bins, lr = 0.12, gamma = 0.995, episodes = 2*10**5, timestep = 1000, epsilon = 0.05)\u001b[39;00m\n\u001b[1;32m----> <a href='vscode-notebook-cell:/c%3A/Users/rossi/OneDrive%20-%20Facultad%20de%20Ingenieria%20-%20Universidad%20ORT%20Uruguay/ORT/Semestre07/InteligenciaArtificial/Obligatorio/ArtificialIntelligence/QLearning/CartPoleWithRender.ipynb#ch0000005?line=3'>4</a>\u001b[0m Q_learning(q_table, bins, lr \u001b[39m=\u001b[39;49m \u001b[39m0.12\u001b[39;49m, gamma \u001b[39m=\u001b[39;49m \u001b[39m0.995\u001b[39;49m, episodes \u001b[39m=\u001b[39;49m \u001b[39m80000\u001b[39;49m, timestep \u001b[39m=\u001b[39;49m \u001b[39m1000\u001b[39;49m, epsilon \u001b[39m=\u001b[39;49m \u001b[39m0.06\u001b[39;49m)\n",
      "\u001b[1;32mc:\\Users\\rossi\\OneDrive - Facultad de Ingenieria - Universidad ORT Uruguay\\ORT\\Semestre07\\InteligenciaArtificial\\Obligatorio\\ArtificialIntelligence\\QLearning\\CartPoleWithRender.ipynb Cell 7'\u001b[0m in \u001b[0;36mQ_learning\u001b[1;34m(q_table, bins, episodes, gamma, lr, timestep, epsilon)\u001b[0m\n\u001b[0;32m     <a href='vscode-notebook-cell:/c%3A/Users/rossi/OneDrive%20-%20Facultad%20de%20Ingenieria%20-%20Universidad%20ORT%20Uruguay/ORT/Semestre07/InteligenciaArtificial/Obligatorio/ArtificialIntelligence/QLearning/CartPoleWithRender.ipynb#ch0000004?line=18'>19</a>\u001b[0m action \u001b[39m=\u001b[39m epsilon_greedy_policy(current_state, q_table, epsilon)\n\u001b[0;32m     <a href='vscode-notebook-cell:/c%3A/Users/rossi/OneDrive%20-%20Facultad%20de%20Ingenieria%20-%20Universidad%20ORT%20Uruguay/ORT/Semestre07/InteligenciaArtificial/Obligatorio/ArtificialIntelligence/QLearning/CartPoleWithRender.ipynb#ch0000004?line=20'>21</a>\u001b[0m obs, reward, done, info \u001b[39m=\u001b[39m env\u001b[39m.\u001b[39mstep(action)\n\u001b[1;32m---> <a href='vscode-notebook-cell:/c%3A/Users/rossi/OneDrive%20-%20Facultad%20de%20Ingenieria%20-%20Universidad%20ORT%20Uruguay/ORT/Semestre07/InteligenciaArtificial/Obligatorio/ArtificialIntelligence/QLearning/CartPoleWithRender.ipynb#ch0000004?line=21'>22</a>\u001b[0m next_state \u001b[39m=\u001b[39m Discrete(obs,bins)\n\u001b[0;32m     <a href='vscode-notebook-cell:/c%3A/Users/rossi/OneDrive%20-%20Facultad%20de%20Ingenieria%20-%20Universidad%20ORT%20Uruguay/ORT/Semestre07/InteligenciaArtificial/Obligatorio/ArtificialIntelligence/QLearning/CartPoleWithRender.ipynb#ch0000004?line=23'>24</a>\u001b[0m score \u001b[39m+\u001b[39m\u001b[39m=\u001b[39m reward\n\u001b[0;32m     <a href='vscode-notebook-cell:/c%3A/Users/rossi/OneDrive%20-%20Facultad%20de%20Ingenieria%20-%20Universidad%20ORT%20Uruguay/ORT/Semestre07/InteligenciaArtificial/Obligatorio/ArtificialIntelligence/QLearning/CartPoleWithRender.ipynb#ch0000004?line=25'>26</a>\u001b[0m \u001b[39m# if not done:\u001b[39;00m\n",
      "\u001b[1;32mc:\\Users\\rossi\\OneDrive - Facultad de Ingenieria - Universidad ORT Uruguay\\ORT\\Semestre07\\InteligenciaArtificial\\Obligatorio\\ArtificialIntelligence\\QLearning\\CartPoleWithRender.ipynb Cell 4'\u001b[0m in \u001b[0;36mDiscrete\u001b[1;34m(state, bins)\u001b[0m\n\u001b[0;32m     <a href='vscode-notebook-cell:/c%3A/Users/rossi/OneDrive%20-%20Facultad%20de%20Ingenieria%20-%20Universidad%20ORT%20Uruguay/ORT/Semestre07/InteligenciaArtificial/Obligatorio/ArtificialIntelligence/QLearning/CartPoleWithRender.ipynb#ch0000003?line=29'>30</a>\u001b[0m \u001b[39mdef\u001b[39;00m \u001b[39mDiscrete\u001b[39m(state, bins):\n\u001b[0;32m     <a href='vscode-notebook-cell:/c%3A/Users/rossi/OneDrive%20-%20Facultad%20de%20Ingenieria%20-%20Universidad%20ORT%20Uruguay/ORT/Semestre07/InteligenciaArtificial/Obligatorio/ArtificialIntelligence/QLearning/CartPoleWithRender.ipynb#ch0000003?line=30'>31</a>\u001b[0m     index \u001b[39m=\u001b[39m []\n\u001b[1;32m---> <a href='vscode-notebook-cell:/c%3A/Users/rossi/OneDrive%20-%20Facultad%20de%20Ingenieria%20-%20Universidad%20ORT%20Uruguay/ORT/Semestre07/InteligenciaArtificial/Obligatorio/ArtificialIntelligence/QLearning/CartPoleWithRender.ipynb#ch0000003?line=31'>32</a>\u001b[0m     \u001b[39mfor\u001b[39;00m i \u001b[39min\u001b[39;00m \u001b[39mrange\u001b[39m(\u001b[39mlen\u001b[39m(state)): index\u001b[39m.\u001b[39mappend(np\u001b[39m.\u001b[39;49mdigitize(state[i],bins[i]) \u001b[39m-\u001b[39m \u001b[39m1\u001b[39m)\n\u001b[0;32m     <a href='vscode-notebook-cell:/c%3A/Users/rossi/OneDrive%20-%20Facultad%20de%20Ingenieria%20-%20Universidad%20ORT%20Uruguay/ORT/Semestre07/InteligenciaArtificial/Obligatorio/ArtificialIntelligence/QLearning/CartPoleWithRender.ipynb#ch0000003?line=32'>33</a>\u001b[0m     \u001b[39mreturn\u001b[39;00m \u001b[39mtuple\u001b[39m(index)\n",
      "File \u001b[1;32m<__array_function__ internals>:180\u001b[0m, in \u001b[0;36mdigitize\u001b[1;34m(*args, **kwargs)\u001b[0m\n",
      "File \u001b[1;32mc:\\Users\\rossi\\AppData\\Local\\Programs\\Python\\Python310\\lib\\site-packages\\numpy\\lib\\function_base.py:5507\u001b[0m, in \u001b[0;36mdigitize\u001b[1;34m(x, bins, right)\u001b[0m\n\u001b[0;32m   5505\u001b[0m     \u001b[39mreturn\u001b[39;00m \u001b[39mlen\u001b[39m(bins) \u001b[39m-\u001b[39m _nx\u001b[39m.\u001b[39msearchsorted(bins[::\u001b[39m-\u001b[39m\u001b[39m1\u001b[39m], x, side\u001b[39m=\u001b[39mside)\n\u001b[0;32m   5506\u001b[0m \u001b[39melse\u001b[39;00m:\n\u001b[1;32m-> 5507\u001b[0m     \u001b[39mreturn\u001b[39;00m _nx\u001b[39m.\u001b[39;49msearchsorted(bins, x, side\u001b[39m=\u001b[39;49mside)\n",
      "File \u001b[1;32m<__array_function__ internals>:180\u001b[0m, in \u001b[0;36msearchsorted\u001b[1;34m(*args, **kwargs)\u001b[0m\n",
      "File \u001b[1;32mc:\\Users\\rossi\\AppData\\Local\\Programs\\Python\\Python310\\lib\\site-packages\\numpy\\core\\fromnumeric.py:1387\u001b[0m, in \u001b[0;36msearchsorted\u001b[1;34m(a, v, side, sorter)\u001b[0m\n\u001b[0;32m   1319\u001b[0m \u001b[39m@array_function_dispatch\u001b[39m(_searchsorted_dispatcher)\n\u001b[0;32m   1320\u001b[0m \u001b[39mdef\u001b[39;00m \u001b[39msearchsorted\u001b[39m(a, v, side\u001b[39m=\u001b[39m\u001b[39m'\u001b[39m\u001b[39mleft\u001b[39m\u001b[39m'\u001b[39m, sorter\u001b[39m=\u001b[39m\u001b[39mNone\u001b[39;00m):\n\u001b[0;32m   1321\u001b[0m     \u001b[39m\"\"\"\u001b[39;00m\n\u001b[0;32m   1322\u001b[0m \u001b[39m    Find indices where elements should be inserted to maintain order.\u001b[39;00m\n\u001b[0;32m   1323\u001b[0m \n\u001b[1;32m   (...)\u001b[0m\n\u001b[0;32m   1385\u001b[0m \n\u001b[0;32m   1386\u001b[0m \u001b[39m    \"\"\"\u001b[39;00m\n\u001b[1;32m-> 1387\u001b[0m     \u001b[39mreturn\u001b[39;00m _wrapfunc(a, \u001b[39m'\u001b[39;49m\u001b[39msearchsorted\u001b[39;49m\u001b[39m'\u001b[39;49m, v, side\u001b[39m=\u001b[39;49mside, sorter\u001b[39m=\u001b[39;49msorter)\n",
      "File \u001b[1;32mc:\\Users\\rossi\\AppData\\Local\\Programs\\Python\\Python310\\lib\\site-packages\\numpy\\core\\fromnumeric.py:57\u001b[0m, in \u001b[0;36m_wrapfunc\u001b[1;34m(obj, method, *args, **kwds)\u001b[0m\n\u001b[0;32m     54\u001b[0m     \u001b[39mreturn\u001b[39;00m _wrapit(obj, method, \u001b[39m*\u001b[39margs, \u001b[39m*\u001b[39m\u001b[39m*\u001b[39mkwds)\n\u001b[0;32m     56\u001b[0m \u001b[39mtry\u001b[39;00m:\n\u001b[1;32m---> 57\u001b[0m     \u001b[39mreturn\u001b[39;00m bound(\u001b[39m*\u001b[39margs, \u001b[39m*\u001b[39m\u001b[39m*\u001b[39mkwds)\n\u001b[0;32m     58\u001b[0m \u001b[39mexcept\u001b[39;00m \u001b[39mTypeError\u001b[39;00m:\n\u001b[0;32m     59\u001b[0m     \u001b[39m# A TypeError occurs if the object does have such a method in its\u001b[39;00m\n\u001b[0;32m     60\u001b[0m     \u001b[39m# class, but its signature is not identical to that of NumPy's. This\u001b[39;00m\n\u001b[1;32m   (...)\u001b[0m\n\u001b[0;32m     64\u001b[0m     \u001b[39m# Call _wrapit from within the except clause to ensure a potential\u001b[39;00m\n\u001b[0;32m     65\u001b[0m     \u001b[39m# exception has a traceback chain.\u001b[39;00m\n\u001b[0;32m     66\u001b[0m     \u001b[39mreturn\u001b[39;00m _wrapit(obj, method, \u001b[39m*\u001b[39margs, \u001b[39m*\u001b[39m\u001b[39m*\u001b[39mkwds)\n",
      "\u001b[1;31mKeyboardInterrupt\u001b[0m: "
     ]
    }
   ],
   "source": [
    "# TRANING\n",
    "q_table, bins = Qtable(len(env.observation_space.low), env.action_space.n)\n",
    "# Q_learning(q_table, bins, lr = 0.12, gamma = 0.995, episodes = 2*10**5, timestep = 1000, epsilon = 0.05)\n",
    "Q_learning(q_table, bins, lr = 0.12, gamma = 0.995, episodes = 80000, timestep = 1000, epsilon = 0.06)"
   ]
  },
  {
   "cell_type": "code",
   "execution_count": null,
   "metadata": {},
   "outputs": [],
   "source": []
  }
 ],
 "metadata": {
  "interpreter": {
   "hash": "e3240f94388efcc62be48edbcba9119757863add8d7dfebab53d57f92d8698f1"
  },
  "kernelspec": {
   "display_name": "Python 3",
   "language": "python",
   "name": "python3"
  },
  "language_info": {
   "codemirror_mode": {
    "name": "ipython",
    "version": 3
   },
   "file_extension": ".py",
   "mimetype": "text/x-python",
   "name": "python",
   "nbconvert_exporter": "python",
   "pygments_lexer": "ipython3",
   "version": "3.10.4"
  },
  "orig_nbformat": 4
 },
 "nbformat": 4,
 "nbformat_minor": 2
}
