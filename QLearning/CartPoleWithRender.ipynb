{
 "cells": [
  {
   "cell_type": "code",
   "execution_count": 1,
   "metadata": {},
   "outputs": [],
   "source": [
    "# !pip install gym\n",
    "# !pip install pygame\n",
    "# ! pip install matplotlib\n",
    "\n",
    "\n",
    "# https://www.gymlibrary.ml/environments/classic_control/cart_pole/?highlight=cart+pole"
   ]
  },
  {
   "cell_type": "code",
   "execution_count": 2,
   "metadata": {},
   "outputs": [
    {
     "name": "stderr",
     "output_type": "stream",
     "text": [
      "c:\\Users\\rossi\\AppData\\Local\\Programs\\Python\\Python310\\lib\\site-packages\\gym\\wrappers\\monitoring\\video_recorder.py:9: DeprecationWarning: The distutils package is deprecated and slated for removal in Python 3.12. Use setuptools or check PEP 632 for potential alternatives\n",
      "  import distutils.spawn\n"
     ]
    }
   ],
   "source": [
    "import gym\n",
    "import numpy as np \n",
    "import matplotlib.pyplot as plt\n",
    "import time"
   ]
  },
  {
   "cell_type": "code",
   "execution_count": 3,
   "metadata": {},
   "outputs": [
    {
     "name": "stdout",
     "output_type": "stream",
     "text": [
      "[-4.8000002e+00 -3.4028235e+38 -4.1887903e-01 -3.4028235e+38] \n",
      " [4.8000002e+00 3.4028235e+38 4.1887903e-01 3.4028235e+38]\n"
     ]
    }
   ],
   "source": [
    "env = gym.make('CartPole-v1')\n",
    "print(env.observation_space.low,\"\\n\",env.observation_space.high)"
   ]
  },
  {
   "cell_type": "code",
   "execution_count": 4,
   "metadata": {},
   "outputs": [],
   "source": [
    "action_space = 2 # number of possible actions\n",
    "bin_size = 15\n",
    "\n",
    "overe0 = float(4)\n",
    "overe1 = float(4)/2**1\n",
    "overe2 = float(4)/2**2\n",
    "overe3 = float(4)/2**3\n",
    "overe4 = float(4)/2**4\n",
    "overe5 = float(4)/2**5\n",
    "overe6 = float(4)/2**6\n",
    "\n",
    "lin_space = [-overe0, -overe1, -overe2, -overe3, -overe4, -overe5, -overe6, 0, overe6, overe5, overe4, overe3, overe2, overe1, overe0]\n",
    "\n",
    "def Qtable(state_space,action_space,bin_size=15 ):\n",
    "    bins = [np.linspace(-2.4,2.4,bin_size),\n",
    "            lin_space,\n",
    "            np.linspace(-0.2095,0.2095,bin_size),\n",
    "            lin_space]\n",
    "   \n",
    "    q_table = np.random.uniform(low=-1,high=1,size=([len(bins[0]), len(bins[1]), len(bins[2]), len(bins[3])] + [action_space]))\n",
    "    return q_table, bins\n",
    "\n",
    "def Discrete(state, bins):\n",
    "    index = []\n",
    "    for i in range(len(state)): index.append(np.digitize(state[i],bins[i]) - 1)\n",
    "    return tuple(index)"
   ]
  },
  {
   "cell_type": "code",
   "execution_count": 5,
   "metadata": {},
   "outputs": [],
   "source": [
    "def epsilon_greedy_policy(state, Q, epsilon=0.1):\n",
    "    explore = np.random.binomial(1, epsilon)\n",
    "    if explore:\n",
    "        action = env.action_space.sample()\n",
    "    else:\n",
    "        action = np.argmax(Q[state])\n",
    "   \n",
    "    return action"
   ]
  },
  {
   "cell_type": "code",
   "execution_count": 6,
   "metadata": {},
   "outputs": [],
   "source": [
    "def plotLearning(data, episodes, timestep):\n",
    "    ep = [i for i in range(0,episodes,timestep)]\n",
    "    plt.plot(ep, data['max'], label = 'Max')\n",
    "    plt.plot(ep, data['avg'], label = 'Avg')\n",
    "    plt.plot(ep, data['min'], label = 'Min')\n",
    "    plt.xlabel('Episode')\n",
    "    plt.ylabel('Reward')\n",
    "    plt.legend(loc = \"upper left\") "
   ]
  },
  {
   "cell_type": "code",
   "execution_count": 7,
   "metadata": {},
   "outputs": [],
   "source": [
    "def updateQtable(action, reward, current_state, next_state, gamma, lr):\n",
    "    max_future_q = np.max(q_table[next_state])\n",
    "    current_q = q_table[current_state+(action,)]\n",
    "    new_q = (1-lr)*current_q + lr*(reward + gamma*max_future_q)\n",
    "    q_table[current_state+(action,)] = new_q"
   ]
  },
  {
   "cell_type": "code",
   "execution_count": 8,
   "metadata": {},
   "outputs": [],
   "source": [
    "    \n",
    "def Q_learning(q_table, bins, episodes = 5000, gamma = 0.95, lr = 0.1, timestep = 5000, epsilon = 0.05):\n",
    "    rewards = 0\n",
    "    runs = []\n",
    "    data = {'max' : [], 'avg' : [], 'min': []}\n",
    "    solved = {'episodes' : [], 'timeMinutes': []}\n",
    "    timesWon = 0 \n",
    "    episodes_to_solve = 0\n",
    "    process_time = time.time()\n",
    "\n",
    "    for episode in range(1,episodes+1):\n",
    "        current_state = Discrete(env.reset(),bins) # initial observation\n",
    "        score = 0\n",
    "        done = False\n",
    "        \n",
    "        while not done:\n",
    "            # ep_start = time.time()\n",
    "            # # if timesWon > 0:\n",
    "            # #     env.render()\n",
    "    \n",
    "            action = epsilon_greedy_policy(current_state, q_table, epsilon)\n",
    "            obs, reward, done, info = env.step(action)\n",
    "            next_state = Discrete(obs,bins)\n",
    "            score += reward\n",
    "            \n",
    "            if done and score == 0:  #falls in the first try\n",
    "                pass\n",
    "            else:\n",
    "                updateQtable(action, reward, current_state,next_state, gamma, lr)\n",
    "\n",
    "            current_state = next_state\n",
    "            \n",
    "        # End of the loop update\n",
    "        else:\n",
    "            if score >= 500 or timesWon > 0:\n",
    "                epsilon = 0\n",
    "            else:\n",
    "                epsilon = 0.06\n",
    "            env.reset()\n",
    "            rewards += score\n",
    "            runs.append(score)\n",
    "        \n",
    "        # Timestep value update\n",
    "        if episode%timestep == 0:\n",
    "            print('Episode : {} | Avg. Rewards -> {} | Max reward : {} | Min Reward : {}'.format(episode,rewards/timestep, max(runs), min(runs)))\n",
    "            data['max'].append(max(runs))\n",
    "            data['avg'].append(rewards/timestep)\n",
    "            data['min'].append(min(runs))\n",
    "            episodes_to_solve = episode\n",
    "            if rewards/timestep >= 475:\n",
    "                timesWon += 1 \n",
    "                print('Solved in episode : {}'.format(episode))\n",
    "                solved['episodes'].append(episode)\n",
    "                solved['timeMinutes'].append(round((time.time() - process_time)/60,2))\n",
    "                epsilon = 0\n",
    "\n",
    "            rewards, runs= 0, []\n",
    "            \n",
    "        if timesWon == 5:\n",
    "            episodes_to_solve = episode\n",
    "            break\n",
    "\n",
    "    print('Solved ' + str(timesWon) + ' times in ' + str(solved))\n",
    "    plotLearning(data, episodes_to_solve, timestep)\n",
    "    env.close()"
   ]
  },
  {
   "cell_type": "code",
   "execution_count": 9,
   "metadata": {},
   "outputs": [
    {
     "name": "stdout",
     "output_type": "stream",
     "text": [
      "Episode : 1000 | Avg. Rewards -> 23.726 | Max reward : 118.0 | Min Reward : 9.0\n",
      "Episode : 2000 | Avg. Rewards -> 25.001 | Max reward : 134.0 | Min Reward : 9.0\n",
      "Episode : 3000 | Avg. Rewards -> 29.697 | Max reward : 120.0 | Min Reward : 9.0\n",
      "Episode : 4000 | Avg. Rewards -> 36.225 | Max reward : 144.0 | Min Reward : 11.0\n",
      "Episode : 5000 | Avg. Rewards -> 45.568 | Max reward : 240.0 | Min Reward : 11.0\n",
      "Episode : 6000 | Avg. Rewards -> 63.397 | Max reward : 292.0 | Min Reward : 11.0\n",
      "Episode : 7000 | Avg. Rewards -> 95.637 | Max reward : 356.0 | Min Reward : 15.0\n",
      "Episode : 8000 | Avg. Rewards -> 118.585 | Max reward : 352.0 | Min Reward : 13.0\n",
      "Episode : 9000 | Avg. Rewards -> 130.3 | Max reward : 420.0 | Min Reward : 13.0\n",
      "Episode : 10000 | Avg. Rewards -> 153.592 | Max reward : 500.0 | Min Reward : 12.0\n",
      "Episode : 11000 | Avg. Rewards -> 164.63 | Max reward : 500.0 | Min Reward : 13.0\n",
      "Episode : 12000 | Avg. Rewards -> 279.606 | Max reward : 500.0 | Min Reward : 15.0\n",
      "Episode : 13000 | Avg. Rewards -> 191.505 | Max reward : 500.0 | Min Reward : 17.0\n",
      "Episode : 14000 | Avg. Rewards -> 249.323 | Max reward : 500.0 | Min Reward : 23.0\n",
      "Episode : 15000 | Avg. Rewards -> 270.701 | Max reward : 500.0 | Min Reward : 17.0\n",
      "Episode : 16000 | Avg. Rewards -> 285.445 | Max reward : 500.0 | Min Reward : 20.0\n",
      "Episode : 17000 | Avg. Rewards -> 288.606 | Max reward : 500.0 | Min Reward : 17.0\n",
      "Episode : 18000 | Avg. Rewards -> 318.181 | Max reward : 500.0 | Min Reward : 25.0\n",
      "Episode : 19000 | Avg. Rewards -> 273.913 | Max reward : 500.0 | Min Reward : 25.0\n",
      "Episode : 20000 | Avg. Rewards -> 383.613 | Max reward : 500.0 | Min Reward : 21.0\n",
      "Episode : 21000 | Avg. Rewards -> 380.529 | Max reward : 500.0 | Min Reward : 23.0\n",
      "Episode : 22000 | Avg. Rewards -> 489.074 | Max reward : 500.0 | Min Reward : 51.0\n",
      "Solved in episode : 22000\n",
      "Episode : 23000 | Avg. Rewards -> 499.309 | Max reward : 500.0 | Min Reward : 235.0\n",
      "Solved in episode : 23000\n",
      "Episode : 24000 | Avg. Rewards -> 499.554 | Max reward : 500.0 | Min Reward : 177.0\n",
      "Solved in episode : 24000\n",
      "Episode : 25000 | Avg. Rewards -> 499.628 | Max reward : 500.0 | Min Reward : 343.0\n",
      "Solved in episode : 25000\n",
      "Episode : 26000 | Avg. Rewards -> 499.563 | Max reward : 500.0 | Min Reward : 343.0\n",
      "Solved in episode : 26000\n",
      "Solved 5 times in {'episodes': [22000, 23000, 24000, 25000, 26000], 'timeMinutes': [11.51, 13.4, 14.46, 15.58, 17.12]}\n"
     ]
    },
    {
     "data": {
      "image/png": "[encoded data removed]",
      "text/plain": [
       "<Figure size 432x288 with 1 Axes>"
      ]
     },
     "metadata": {
      "needs_background": "light"
     },
     "output_type": "display_data"
    }
   ],
   "source": [
    "# TRANING\n",
    "q_table, bins = Qtable(len(env.observation_space.low), env.action_space.n)\n",
    "Q_learning(q_table, bins, lr = 0.14, gamma = 0.995, episodes = 2*10**5, timestep = 1000, epsilon = 0.06)"
   ]
  }
 ],
 "metadata": {
  "interpreter": {
   "hash": "e3240f94388efcc62be48edbcba9119757863add8d7dfebab53d57f92d8698f1"
  },
  "kernelspec": {
   "display_name": "Python 3",
   "language": "python",
   "name": "python3"
  },
  "language_info": {
   "codemirror_mode": {
    "name": "ipython",
    "version": 3
   },
   "file_extension": ".py",
   "mimetype": "text/x-python",
   "name": "python",
   "nbconvert_exporter": "python",
   "pygments_lexer": "ipython3",
   "version": "3.10.4"
  },
  "orig_nbformat": 4
 },
 "nbformat": 4,
 "nbformat_minor": 2
}
