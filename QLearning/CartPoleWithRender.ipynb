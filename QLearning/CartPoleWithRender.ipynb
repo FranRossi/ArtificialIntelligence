{
 "cells": [
  {
   "cell_type": "code",
   "execution_count": 10,
   "metadata": {},
   "outputs": [],
   "source": [
    "# !pip install gym\n",
    "# !pip install pygame\n",
    "# ! pip install matplotlib\n",
    "\n",
    "\n",
    "# https://www.gymlibrary.ml/environments/classic_control/cart_pole/?highlight=cart+pole"
   ]
  },
  {
   "cell_type": "code",
   "execution_count": 11,
   "metadata": {},
   "outputs": [],
   "source": [
    "import gym\n",
    "import numpy as np \n",
    "import matplotlib.pyplot as plt\n",
    "import time"
   ]
  },
  {
   "cell_type": "code",
   "execution_count": 12,
   "metadata": {},
   "outputs": [
    {
     "name": "stdout",
     "output_type": "stream",
     "text": [
      "[-4.8000002e+00 -3.4028235e+38 -4.1887903e-01 -3.4028235e+38] \n",
      " [4.8000002e+00 3.4028235e+38 4.1887903e-01 3.4028235e+38]\n"
     ]
    }
   ],
   "source": [
    "env = gym.make('CartPole-v1')\n",
    "print(env.observation_space.low,\"\\n\",env.observation_space.high)"
   ]
  },
  {
   "cell_type": "code",
   "execution_count": 13,
   "metadata": {},
   "outputs": [],
   "source": [
    "action_space = 2 # number of possible actions\n",
    "bin_size = 15\n",
    "\n",
    "overe0 = float(4)\n",
    "overe1 = float(4)/2**1\n",
    "overe2 = float(4)/2**2\n",
    "overe3 = float(4)/2**3\n",
    "overe4 = float(4)/2**4\n",
    "overe5 = float(4)/2**5\n",
    "overe6 = float(4)/2**6\n",
    "\n",
    "lin_space = [-overe0, -overe1, -overe2, -overe3, -overe4, -overe5, -overe6, 0, overe6, overe5, overe4, overe3, overe2, overe1, overe0]\n",
    "\n",
    "def Qtable(state_space,action_space,bin_size ):\n",
    "    bins = [np.linspace(-2.4,2.4,bin_size),\n",
    "            lin_space,\n",
    "            np.linspace(-0.2095,0.2095,bin_size),\n",
    "            lin_space]\n",
    "   \n",
    "    q_table = np.random.uniform(low=-1,high=1,size=([len(bins[0]), len(bins[1]), len(bins[2]), len(bins[3])] + [action_space]))\n",
    "    return q_table, bins\n",
    "\n",
    "def Discrete(state, bins):\n",
    "    index = []\n",
    "    for i in range(len(state)): index.append(np.digitize(state[i],bins[i]) - 1)\n",
    "    return tuple(index)"
   ]
  },
  {
   "cell_type": "code",
   "execution_count": 14,
   "metadata": {},
   "outputs": [],
   "source": [
    "def epsilon_greedy_policy(state, Q, epsilon=0.1):\n",
    "    explore = np.random.binomial(1, epsilon)\n",
    "    if explore:\n",
    "        action = env.action_space.sample()\n",
    "    else:\n",
    "        action = np.argmax(Q[state])\n",
    "   \n",
    "    return action"
   ]
  },
  {
   "cell_type": "code",
   "execution_count": 15,
   "metadata": {},
   "outputs": [],
   "source": [
    "def plotLearning(data, episodes, timestep):\n",
    "    ep = [i for i in range(0,episodes + 1,timestep)]\n",
    "    if len(ep) == len(data['max']):\n",
    "        plt.plot(ep, data['max'], label = 'Max')\n",
    "        plt.plot(ep, data['avg'], label = 'Avg')\n",
    "        plt.xlabel('Episode')\n",
    "        plt.ylabel('Reward')\n",
    "        plt.legend(loc = \"upper left\") "
   ]
  },
  {
   "cell_type": "code",
   "execution_count": 16,
   "metadata": {},
   "outputs": [],
   "source": [
    "def updateQtable(action, reward, current_state,next_state, gamma, lr):\n",
    "    max_future_q = np.max(q_table[next_state])\n",
    "    current_q = q_table[current_state+(action,)]\n",
    "    new_q = (1-lr)*current_q + lr*(reward + gamma*max_future_q)\n",
    "    q_table[current_state+(action,)] = new_q"
   ]
  },
  {
   "cell_type": "code",
   "execution_count": 17,
   "metadata": {},
   "outputs": [],
   "source": [
    "    \n",
    "def Q_learning(q_table, bins, episodes = 5000, gamma = 0.95, lr = 0.1, timestep = 5000, epsilon = 0.05):\n",
    "    rewards = 0\n",
    "    runs = [0]\n",
    "    data = {'max' : [0], 'avg' : [0]}\n",
    "    timesWon = 0 \n",
    "\n",
    "\n",
    "    for episode in range(1,episodes+1):\n",
    "        current_state = Discrete(env.reset(),bins) # initial observation\n",
    "        score = 0\n",
    "        done = False\n",
    "        \n",
    "        while not done:\n",
    "            ep_start = time.time()\n",
    "            if timesWon > 0:\n",
    "                env.render()\n",
    "    \n",
    "            action = epsilon_greedy_policy(current_state, q_table, epsilon)\n",
    "            obs, reward, done, info = env.step(action)\n",
    "            next_state = Discrete(obs,bins)\n",
    "            score += reward\n",
    "            \n",
    "            updateQtable(action, reward, current_state,next_state, gamma, lr)\n",
    "            current_state = next_state\n",
    "            \n",
    "        # End of the loop update\n",
    "        else:\n",
    "            env.reset()\n",
    "            rewards += score\n",
    "            runs.append(score)\n",
    "        \n",
    "        # Timestep value update\n",
    "        if episode%timestep == 0:\n",
    "            print('Episode : {} | Avg. Rewards -> {} | Max reward : {} | Time : {}'.format(episode,rewards/timestep, max(runs), time.time() - ep_start))\n",
    "            data['max'].append(max(runs))\n",
    "            data['avg'].append(rewards/timestep)\n",
    "            if rewards/timestep >= 475:\n",
    "                timesWon += 1 \n",
    "                print('Solved in episode : {}'.format(episode))\n",
    "                epsilon = 0\n",
    "\n",
    "            rewards, runs= 0, [0]\n",
    "            \n",
    "        if timesWon == 5:\n",
    "            break\n",
    "\n",
    "    plotLearning(data, episodes, timestep)\n",
    "    env.close()"
   ]
  },
  {
   "cell_type": "code",
   "execution_count": 18,
   "metadata": {},
   "outputs": [
    {
     "name": "stdout",
     "output_type": "stream",
     "text": [
      "Episode : 1000 | Avg. Rewards -> 24.299 | Max reward : 140.0 | Time : 0.0\n",
      "Episode : 2000 | Avg. Rewards -> 24.247 | Max reward : 232.0 | Time : 0.0\n",
      "Episode : 3000 | Avg. Rewards -> 36.766 | Max reward : 500.0 | Time : 0.0\n",
      "Episode : 4000 | Avg. Rewards -> 81.528 | Max reward : 500.0 | Time : 0.0\n",
      "Episode : 5000 | Avg. Rewards -> 171.874 | Max reward : 500.0 | Time : 0.0\n",
      "Episode : 6000 | Avg. Rewards -> 216.995 | Max reward : 500.0 | Time : 0.0\n",
      "Episode : 7000 | Avg. Rewards -> 225.422 | Max reward : 500.0 | Time : 0.0\n",
      "Episode : 8000 | Avg. Rewards -> 198.205 | Max reward : 500.0 | Time : 0.0010004043579101562\n",
      "Episode : 9000 | Avg. Rewards -> 247.591 | Max reward : 500.0 | Time : 0.0\n",
      "Episode : 10000 | Avg. Rewards -> 227.158 | Max reward : 500.0 | Time : 0.0\n",
      "Episode : 11000 | Avg. Rewards -> 234.304 | Max reward : 500.0 | Time : 0.0\n",
      "Episode : 12000 | Avg. Rewards -> 240.326 | Max reward : 500.0 | Time : 0.0\n",
      "Episode : 13000 | Avg. Rewards -> 303.115 | Max reward : 500.0 | Time : 0.0\n",
      "Episode : 14000 | Avg. Rewards -> 328.657 | Max reward : 500.0 | Time : 0.001001119613647461\n",
      "Episode : 15000 | Avg. Rewards -> 293.538 | Max reward : 500.0 | Time : 0.0009996891021728516\n",
      "Episode : 16000 | Avg. Rewards -> 339.759 | Max reward : 500.0 | Time : 0.0\n",
      "Episode : 17000 | Avg. Rewards -> 322.301 | Max reward : 500.0 | Time : 0.0\n",
      "Episode : 18000 | Avg. Rewards -> 316.666 | Max reward : 500.0 | Time : 0.0\n",
      "Episode : 19000 | Avg. Rewards -> 359.523 | Max reward : 500.0 | Time : 0.0\n",
      "Episode : 20000 | Avg. Rewards -> 319.911 | Max reward : 500.0 | Time : 0.0\n",
      "Episode : 21000 | Avg. Rewards -> 375.82 | Max reward : 500.0 | Time : 0.0\n",
      "Episode : 22000 | Avg. Rewards -> 362.883 | Max reward : 500.0 | Time : 0.0\n",
      "Episode : 23000 | Avg. Rewards -> 370.227 | Max reward : 500.0 | Time : 0.0\n",
      "Episode : 24000 | Avg. Rewards -> 384.876 | Max reward : 500.0 | Time : 0.000997781753540039\n",
      "Episode : 25000 | Avg. Rewards -> 350.242 | Max reward : 500.0 | Time : 0.0\n",
      "Episode : 26000 | Avg. Rewards -> 415.185 | Max reward : 500.0 | Time : 0.0009992122650146484\n",
      "Episode : 27000 | Avg. Rewards -> 425.296 | Max reward : 500.0 | Time : 0.0009996891021728516\n",
      "Episode : 28000 | Avg. Rewards -> 424.002 | Max reward : 500.0 | Time : 0.0\n",
      "Episode : 29000 | Avg. Rewards -> 465.202 | Max reward : 500.0 | Time : 0.0\n",
      "Episode : 30000 | Avg. Rewards -> 470.446 | Max reward : 500.0 | Time : 0.0\n",
      "Episode : 31000 | Avg. Rewards -> 476.806 | Max reward : 500.0 | Time : 0.0\n",
      "Episode : 32000 | Avg. Rewards -> 471.757 | Max reward : 500.0 | Time : 0.0\n",
      "Episode : 33000 | Avg. Rewards -> 468.396 | Max reward : 500.0 | Time : 0.0\n",
      "Episode : 34000 | Avg. Rewards -> 462.48 | Max reward : 500.0 | Time : 0.0\n",
      "Episode : 35000 | Avg. Rewards -> 467.532 | Max reward : 500.0 | Time : 0.0\n",
      "Episode : 36000 | Avg. Rewards -> 471.227 | Max reward : 500.0 | Time : 0.0\n",
      "Episode : 37000 | Avg. Rewards -> 469.954 | Max reward : 500.0 | Time : 0.0\n",
      "Episode : 38000 | Avg. Rewards -> 474.95 | Max reward : 500.0 | Time : 0.0\n",
      "Episode : 39000 | Avg. Rewards -> 478.451 | Max reward : 500.0 | Time : 0.0\n",
      "Episode : 40000 | Avg. Rewards -> 478.034 | Max reward : 500.0 | Time : 0.0\n",
      "Episode : 41000 | Avg. Rewards -> 474.225 | Max reward : 500.0 | Time : 0.0\n",
      "Episode : 42000 | Avg. Rewards -> 455.99 | Max reward : 500.0 | Time : 0.0\n",
      "Episode : 43000 | Avg. Rewards -> 477.351 | Max reward : 500.0 | Time : 0.0\n",
      "Episode : 44000 | Avg. Rewards -> 472.206 | Max reward : 500.0 | Time : 0.0\n",
      "Episode : 45000 | Avg. Rewards -> 482.732 | Max reward : 500.0 | Time : 0.0\n",
      "Solved in episode : 45000\n",
      "Episode : 46000 | Avg. Rewards -> 499.024 | Max reward : 500.0 | Time : 0.0\n",
      "Solved in episode : 46000\n",
      "Episode : 47000 | Avg. Rewards -> 500.0 | Max reward : 500.0 | Time : 0.000997304916381836\n",
      "Solved in episode : 47000\n"
     ]
    },
    {
     "ename": "",
     "evalue": "",
     "output_type": "error",
     "traceback": [
      "\u001b[1;31mCanceled future for execute_request message before replies were done"
     ]
    },
    {
     "ename": "",
     "evalue": "",
     "output_type": "error",
     "traceback": [
      "\u001b[1;31mThe Kernel crashed while executing code in the the current cell or a previous cell. Please review the code in the cell(s) to identify a possible cause of the failure. Click <a href='https://aka.ms/vscodeJupyterKernelCrash'>here</a> for more info. View Jupyter <a href='command:jupyter.viewOutput'>log</a> for further details."
     ]
    }
   ],
   "source": [
    "# TRANING\n",
    "q_table, bins = Qtable(len(env.observation_space.low), env.action_space.n)\n",
    "Q_learning(q_table, bins, lr = 0.14, gamma = 0.995, episodes = 1*10**5, timestep = 1000, epsilon = 0.06)"
   ]
  },
  {
   "cell_type": "code",
   "execution_count": null,
   "metadata": {},
   "outputs": [],
   "source": []
  }
 ],
 "metadata": {
  "interpreter": {
   "hash": "e3240f94388efcc62be48edbcba9119757863add8d7dfebab53d57f92d8698f1"
  },
  "kernelspec": {
   "display_name": "Python 3",
   "language": "python",
   "name": "python3"
  },
  "language_info": {
   "codemirror_mode": {
    "name": "ipython",
    "version": 3
   },
   "file_extension": ".py",
   "mimetype": "text/x-python",
   "name": "python",
   "nbconvert_exporter": "python",
   "pygments_lexer": "ipython3",
   "version": "3.10.4"
  },
  "orig_nbformat": 4
 },
 "nbformat": 4,
 "nbformat_minor": 2
}
