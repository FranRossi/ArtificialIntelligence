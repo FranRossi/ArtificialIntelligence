{
 "cells": [
  {
   "cell_type": "code",
   "execution_count": 1,
   "metadata": {},
   "outputs": [],
   "source": [
    "# !pip install gym\n",
    "# !pip install pygame\n",
    "# ! pip install matplotlib\n",
    "\n",
    "\n",
    "# https://www.gymlibrary.ml/environments/classic_control/cart_pole/?highlight=cart+pole"
   ]
  },
  {
   "cell_type": "code",
   "execution_count": 14,
   "metadata": {},
   "outputs": [],
   "source": [
    "import gym\n",
    "import numpy as np \n",
    "import matplotlib.pyplot as plt\n",
    "import time"
   ]
  },
  {
   "cell_type": "code",
   "execution_count": 15,
   "metadata": {},
   "outputs": [
    {
     "name": "stdout",
     "output_type": "stream",
     "text": [
      "[-4.8000002e+00 -3.4028235e+38 -4.1887903e-01 -3.4028235e+38] \n",
      " [4.8000002e+00 3.4028235e+38 4.1887903e-01 3.4028235e+38]\n"
     ]
    }
   ],
   "source": [
    "env = gym.make('CartPole-v1')\n",
    "print(env.observation_space.low,\"\\n\",env.observation_space.high)"
   ]
  },
  {
   "cell_type": "code",
   "execution_count": 16,
   "metadata": {},
   "outputs": [],
   "source": [
    "action_space = 2 # number of possible actions\n",
    "bin_size = 15\n",
    "\n",
    "overe0 = float(4)\n",
    "overe1 = float(4)/2**1\n",
    "overe2 = float(4)/2**2\n",
    "overe3 = float(4)/2**3\n",
    "overe4 = float(4)/2**4\n",
    "overe5 = float(4)/2**5\n",
    "overe6 = float(4)/2**6\n",
    "\n",
    "lin_space = [-overe0, -overe1, -overe2, -overe3, -overe4, -overe5, -overe6, 0, overe6, overe5, overe4, overe3, overe2, overe1, overe0]\n",
    "\n",
    "def Qtable(state_space,action_space,bin_size=15 ):\n",
    "    bins = [np.linspace(-2.4,2.4,bin_size),\n",
    "            lin_space,\n",
    "            np.linspace(-0.2095,0.2095,bin_size),\n",
    "            lin_space]\n",
    "   \n",
    "    q_table = np.random.uniform(low=-1,high=1,size=([len(bins[0]), len(bins[1]), len(bins[2]), len(bins[3])] + [action_space]))\n",
    "    return q_table, bins\n",
    "\n",
    "def Discrete(state, bins):\n",
    "    index = []\n",
    "    for i in range(len(state)): index.append(np.digitize(state[i],bins[i]) - 1)\n",
    "    return tuple(index)"
   ]
  },
  {
   "cell_type": "code",
   "execution_count": 17,
   "metadata": {},
   "outputs": [],
   "source": [
    "def epsilon_greedy_policy(state, Q, epsilon=0.1):\n",
    "    explore = np.random.binomial(1, epsilon)\n",
    "    if explore:\n",
    "        action = env.action_space.sample()\n",
    "    else:\n",
    "        action = np.argmax(Q[state])\n",
    "   \n",
    "    return action"
   ]
  },
  {
   "cell_type": "code",
   "execution_count": 18,
   "metadata": {},
   "outputs": [],
   "source": [
    "def plotLearning(data, episodes, timestep):\n",
    "    ep = [i for i in range(0,episodes,timestep)]\n",
    "    plt.plot(ep, data['max'], label = 'Max')\n",
    "    plt.plot(ep, data['avg'], label = 'Avg')\n",
    "    plt.plot(ep, data['min'], label = 'Min')\n",
    "    plt.xlabel('Episode')\n",
    "    plt.ylabel('Reward')\n",
    "    plt.legend(loc = \"upper left\") "
   ]
  },
  {
   "cell_type": "code",
   "execution_count": 19,
   "metadata": {},
   "outputs": [],
   "source": [
    "def updateQtable(action, reward, current_state, next_state, gamma, lr):\n",
    "    max_future_q = np.max(q_table[next_state])\n",
    "    current_q = q_table[current_state+(action,)]\n",
    "    new_q = (1-lr)*current_q + lr*(reward + gamma*max_future_q)\n",
    "    q_table[current_state+(action,)] = new_q"
   ]
  },
  {
   "cell_type": "code",
   "execution_count": 42,
   "metadata": {},
   "outputs": [],
   "source": [
    "    \n",
    "def Q_learning(q_table, bins, episodes = 5000, gamma = 0.95, lr = 0.1, timestep = 5000, epsilon = 0.05):\n",
    "    rewards = 0\n",
    "    runs = []\n",
    "    data = {'max' : [0], 'avg' : [0], 'min': [0]}\n",
    "    solved = {'episodes' : [], 'timeMinutes': []}\n",
    "    timesWon = 0 \n",
    "    episodes_to_solve = 0\n",
    "    process_time = time.time()\n",
    "\n",
    "    for episode in range(1,episodes+1):\n",
    "        current_state = Discrete(env.reset(),bins) # initial observation\n",
    "        score = 0\n",
    "        done = False\n",
    "        \n",
    "        while not done:\n",
    "            # ep_start = time.time()\n",
    "            # # if timesWon > 0:\n",
    "            # #     env.render()\n",
    "    \n",
    "            action = epsilon_greedy_policy(current_state, q_table, epsilon)\n",
    "            obs, reward, done, info = env.step(action)\n",
    "            next_state = Discrete(obs,bins)\n",
    "            score += reward\n",
    "            \n",
    "            if done and score == 0:  #falls in the first try\n",
    "                pass\n",
    "            else:\n",
    "                updateQtable(action, reward, current_state,next_state, gamma, lr)\n",
    "\n",
    "            current_state = next_state\n",
    "            \n",
    "        # End of the loop update\n",
    "        else:\n",
    "            if score >= 500 or timesWon > 0:\n",
    "                epsilon = 0\n",
    "            else:\n",
    "                epsilon = 0.06\n",
    "            env.reset()\n",
    "            rewards += score\n",
    "            runs.append(score)\n",
    "        \n",
    "        # Timestep value update\n",
    "        if episode%timestep == 0:\n",
    "            print('Episode : {} | Avg. Rewards -> {} | Max reward : {} | Min Reward : {}'.format(episode,rewards/timestep, max(runs), min(runs)))\n",
    "            data['max'].append(max(runs))\n",
    "            data['avg'].append(rewards/timestep)\n",
    "            data['min'].append(min(runs))\n",
    "            episodes_to_solve = episode\n",
    "            if rewards/timestep >= 475:\n",
    "                timesWon += 1 \n",
    "                print('Solved in episode : {}'.format(episode))\n",
    "                solved['episodes'].append(episode)\n",
    "                solved['timeMinutes'].append(round((time.time() - process_time)/60,2))\n",
    "                # epsilon = 0\n",
    "\n",
    "            rewards, runs= 0, []\n",
    "            \n",
    "        if timesWon == 8:\n",
    "            episodes_to_solve = episode\n",
    "            break\n",
    "\n",
    "    plotLearning(data, episodes_to_solve, timestep)\n",
    "    print('Solved ' + str(timesWon) + ' times in ' + str(solved))\n",
    "    env.close()"
   ]
  },
  {
   "cell_type": "code",
   "execution_count": 43,
   "metadata": {},
   "outputs": [
    {
     "name": "stdout",
     "output_type": "stream",
     "text": [
      "Episode : 1000 | Avg. Rewards -> 34.036 | Max reward : 135.0 | Min Reward : 8.0\n",
      "Episode : 2000 | Avg. Rewards -> 38.548 | Max reward : 136.0 | Min Reward : 9.0\n",
      "Episode : 3000 | Avg. Rewards -> 64.353 | Max reward : 500.0 | Min Reward : 9.0\n",
      "Episode : 4000 | Avg. Rewards -> 84.849 | Max reward : 500.0 | Min Reward : 11.0\n",
      "Episode : 5000 | Avg. Rewards -> 118.725 | Max reward : 500.0 | Min Reward : 13.0\n",
      "Episode : 6000 | Avg. Rewards -> 157.481 | Max reward : 500.0 | Min Reward : 13.0\n",
      "Episode : 7000 | Avg. Rewards -> 186.786 | Max reward : 500.0 | Min Reward : 14.0\n",
      "Episode : 8000 | Avg. Rewards -> 249.569 | Max reward : 500.0 | Min Reward : 16.0\n",
      "Episode : 9000 | Avg. Rewards -> 258.484 | Max reward : 500.0 | Min Reward : 21.0\n",
      "Episode : 10000 | Avg. Rewards -> 268.896 | Max reward : 500.0 | Min Reward : 28.0\n",
      "Episode : 11000 | Avg. Rewards -> 256.004 | Max reward : 500.0 | Min Reward : 16.0\n",
      "Episode : 12000 | Avg. Rewards -> 308.128 | Max reward : 500.0 | Min Reward : 28.0\n",
      "Episode : 13000 | Avg. Rewards -> 379.592 | Max reward : 500.0 | Min Reward : 29.0\n",
      "Episode : 14000 | Avg. Rewards -> 472.809 | Max reward : 500.0 | Min Reward : 44.0\n",
      "Episode : 15000 | Avg. Rewards -> 486.817 | Max reward : 500.0 | Min Reward : 35.0\n",
      "Solved in episode : 15000\n",
      "Episode : 16000 | Avg. Rewards -> 486.425 | Max reward : 500.0 | Min Reward : 52.0\n",
      "Solved in episode : 16000\n",
      "Episode : 17000 | Avg. Rewards -> 479.877 | Max reward : 500.0 | Min Reward : 62.0\n",
      "Solved in episode : 17000\n",
      "Episode : 18000 | Avg. Rewards -> 490.226 | Max reward : 500.0 | Min Reward : 60.0\n",
      "Solved in episode : 18000\n",
      "Episode : 19000 | Avg. Rewards -> 493.379 | Max reward : 500.0 | Min Reward : 56.0\n",
      "Solved in episode : 19000\n",
      "Episode : 20000 | Avg. Rewards -> 483.174 | Max reward : 500.0 | Min Reward : 54.0\n",
      "Solved in episode : 20000\n",
      "Episode : 21000 | Avg. Rewards -> 492.475 | Max reward : 500.0 | Min Reward : 141.0\n",
      "Solved in episode : 21000\n",
      "Episode : 22000 | Avg. Rewards -> 468.332 | Max reward : 500.0 | Min Reward : 83.0\n",
      "Episode : 23000 | Avg. Rewards -> 473.44 | Max reward : 500.0 | Min Reward : 130.0\n",
      "Episode : 24000 | Avg. Rewards -> 496.868 | Max reward : 500.0 | Min Reward : 95.0\n",
      "Solved in episode : 24000\n",
      "Solved 8 times in {'episodes': [15000, 16000, 17000, 18000, 19000, 20000, 21000, 24000], 'timeMinutes': [3.85, 4.4, 4.95, 5.51, 6.07, 6.62, 7.18, 8.81]}\n"
     ]
    },
    {
     "data": {
      "image/png": "[encoded data removed]",
      "text/plain": [
       "<Figure size 432x288 with 1 Axes>"
      ]
     },
     "metadata": {
      "needs_background": "light"
     },
     "output_type": "display_data"
    }
   ],
   "source": [
    "# TRANING\n",
    "q_table, bins = Qtable(len(env.observation_space.low), env.action_space.n)\n",
    "Q_learning(q_table, bins, lr = 0.14, gamma = 0.995, episodes = 5*10**5, timestep = 1000, epsilon = 0.06)"
   ]
  },
  {
   "cell_type": "code",
   "execution_count": null,
   "metadata": {},
   "outputs": [],
   "source": []
  }
 ],
 "metadata": {
  "interpreter": {
   "hash": "e3240f94388efcc62be48edbcba9119757863add8d7dfebab53d57f92d8698f1"
  },
  "kernelspec": {
   "display_name": "Python 3",
   "language": "python",
   "name": "python3"
  },
  "language_info": {
   "codemirror_mode": {
    "name": "ipython",
    "version": 3
   },
   "file_extension": ".py",
   "mimetype": "text/x-python",
   "name": "python",
   "nbconvert_exporter": "python",
   "pygments_lexer": "ipython3",
   "version": "3.7.3"
  },
  "orig_nbformat": 4
 },
 "nbformat": 4,
 "nbformat_minor": 2
}
