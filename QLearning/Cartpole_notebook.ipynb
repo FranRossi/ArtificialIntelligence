{
 "cells": [
  {
   "cell_type": "code",
   "execution_count": 2,
   "id": "5f9335c6",
   "metadata": {},
   "outputs": [
    {
     "name": "stdout",
     "output_type": "stream",
     "text": [
      "Collecting gym\n",
      "\u001b[?25l  Downloading https://files.pythonhosted.org/packages/34/e8/c8953e7fb2e3b3a232a21f87248b87fe9354b8db74e79ece99f53ce31a3d/gym-0.24.0.tar.gz (694kB)\n",
      "\u001b[K     |████████████████████████████████| 696kB 4.1MB/s eta 0:00:01\n",
      "\u001b[?25h  Installing build dependencies ... \u001b[?25ldone\n",
      "\u001b[?25h  Getting requirements to build wheel ... \u001b[?25ldone\n",
      "\u001b[?25h    Preparing wheel metadata ... \u001b[?25ldone\n",
      "\u001b[?25hRequirement already satisfied: numpy>=1.18.0 in /opt/conda/lib/python3.7/site-packages (from gym) (1.21.6)\n",
      "Collecting gym-notices>=0.0.4 (from gym)\n",
      "  Downloading https://files.pythonhosted.org/packages/81/7d/1facd00576b34597a8caa3ba59e3e576c34ba8210fe7c28ac0c270d19070/gym_notices-0.0.7-py3-none-any.whl\n",
      "Collecting cloudpickle>=1.2.0 (from gym)\n",
      "  Downloading https://files.pythonhosted.org/packages/25/40/2c9db9cfb85a8a21c61528f6660c47662b3e59576efac610d8268d47abba/cloudpickle-2.1.0-py3-none-any.whl\n",
      "Collecting importlib-metadata>=4.8.0; python_version < \"3.10\" (from gym)\n",
      "  Downloading https://files.pythonhosted.org/packages/ab/b5/1bd220dd470b0b912fc31499e0d9c652007a60caf137995867ccc4b98cb6/importlib_metadata-4.11.4-py3-none-any.whl\n",
      "Collecting zipp>=0.5 (from importlib-metadata>=4.8.0; python_version < \"3.10\"->gym)\n",
      "  Downloading https://files.pythonhosted.org/packages/80/0e/16a7ee38617aab6a624e95948d314097cc2669edae9b02ded53309941cfc/zipp-3.8.0-py3-none-any.whl\n",
      "Requirement already satisfied: typing-extensions>=3.6.4; python_version < \"3.8\" in /opt/conda/lib/python3.7/site-packages (from importlib-metadata>=4.8.0; python_version < \"3.10\"->gym) (4.2.0)\n",
      "Building wheels for collected packages: gym\n",
      "  Building wheel for gym (PEP 517) ... \u001b[?25ldone\n",
      "\u001b[?25h  Stored in directory: /home/jovyan/.cache/pip/wheels/0a/52/58/66566c5bd7688f2cd792017bfcae26010c523786721a4ccb9c\n",
      "Successfully built gym\n",
      "Installing collected packages: gym-notices, cloudpickle, zipp, importlib-metadata, gym\n",
      "  Found existing installation: cloudpickle 0.8.1\n",
      "    Uninstalling cloudpickle-0.8.1:\n",
      "      Successfully uninstalled cloudpickle-0.8.1\n",
      "Successfully installed cloudpickle-2.1.0 gym-0.24.0 gym-notices-0.0.7 importlib-metadata-4.11.4 zipp-3.8.0\n",
      "Collecting pygame\n",
      "\u001b[?25l  Downloading https://files.pythonhosted.org/packages/47/e2/338b2645c39c888ea58101064e688bd9ac6af5590e887c2dd8b7ca54a02a/pygame-2.1.2-cp37-cp37m-manylinux_2_12_x86_64.manylinux2010_x86_64.whl (21.2MB)\n",
      "\u001b[K     |████████████████████████████████| 21.2MB 4.0MB/s eta 0:00:01\n",
      "\u001b[?25hInstalling collected packages: pygame\n",
      "Successfully installed pygame-2.1.2\n"
     ]
    }
   ],
   "source": [
    "# !pip install gym\n",
    "# !pip install pygame\n",
    "import gym\n",
    "import time\n",
    "from random import randint"
   ]
  },
  {
   "cell_type": "markdown",
   "id": "d6adb5e7",
   "metadata": {},
   "source": [
    "# Cargo el entorno"
   ]
  },
  {
   "cell_type": "code",
   "execution_count": 3,
   "id": "8ea068c2",
   "metadata": {},
   "outputs": [],
   "source": [
    "env = gym.make('CartPole-v1')"
   ]
  },
  {
   "cell_type": "markdown",
   "id": "af7f73db",
   "metadata": {},
   "source": [
    "# Simulación"
   ]
  },
  {
   "cell_type": "code",
   "execution_count": 5,
   "id": "046ba410",
   "metadata": {},
   "outputs": [],
   "source": [
    "for _ in range(10):\n",
    "    obs = env.reset()\n",
    "    done = False\n",
    "    while not done:\n",
    "        policy = randint(0,1)\n",
    "        obs, reward, done, info = env.step(policy)\n",
    "        # print(obs)\n",
    "        # env.render()\n",
    "        time.sleep(0.05)\n",
    "        if done:\n",
    "            env.reset()\n",
    "env.close()"
   ]
  },
  {
   "cell_type": "code",
   "execution_count": 9,
   "id": "4f6cd2fc",
   "metadata": {},
   "outputs": [],
   "source": [
    "import numpy as np\n",
    "def createEpsilonGreedyPolicy(Q, epsilon, num_actions):\n",
    "    \"\"\"\n",
    "    Creates an epsilon-greedy policy based\n",
    "    on a given Q-function and epsilon.\n",
    "       \n",
    "    Returns a function that takes the state\n",
    "    as an input and returns the probabilities\n",
    "    for each action in the form of a numpy array \n",
    "    of length of the action space(set of possible actions).\n",
    "    \"\"\"\n",
    "    def policyFunction(state):\n",
    "   \n",
    "        Action_probabilities = np.ones(num_actions,\n",
    "                dtype = float) * epsilon / num_actions\n",
    "    \n",
    "        state_tup = state[0] , state[1] , state[2] , state[3] \n",
    "        \n",
    "        best_action = np.argmax(Q[state_tup])\n",
    "        Action_probabilities[best_action] += (1.0 - epsilon)\n",
    "        return Action_probabilities\n",
    "   \n",
    "    return policyFunction"
   ]
  },
  {
   "cell_type": "code",
   "execution_count": 7,
   "id": "ccb0c937",
   "metadata": {},
   "outputs": [
    {
     "name": "stderr",
     "output_type": "stream",
     "text": [
      "/opt/conda/lib/python3.7/site-packages/pandas/compat/_optional.py:138: UserWarning: Pandas requires version '2.7.0' or newer of 'numexpr' (version '2.6.9' currently installed).\n",
      "  warnings.warn(msg, UserWarning)\n"
     ]
    }
   ],
   "source": [
    "from collections import defaultdict\n",
    "import gym\n",
    "import itertools\n",
    "import matplotlib\n",
    "import matplotlib.style\n",
    "import numpy as np\n",
    "import pandas as pd\n",
    "import sys\n",
    "\n",
    "def qLearning(env, num_episodes, discount_factor = 1.0,\n",
    "                            alpha = 0.6, epsilon = 0.1):\n",
    "    \"\"\"\n",
    "    Q-Learning algorithm: Off-policy TD control.\n",
    "    Finds the optimal greedy policy while improving\n",
    "    following an epsilon-greedy policy\"\"\"\n",
    "       \n",
    "    # Action value function\n",
    "    # A nested dictionary that maps\n",
    "    # state -> (action -> action-value).\n",
    "    Q = defaultdict(lambda: np.zeros(env.action_space.n))\n",
    "       \n",
    "    # Create an epsilon greedy policy function\n",
    "    # appropriately for environment action space\n",
    "    policy = createEpsilonGreedyPolicy(Q, epsilon, env.action_space.n)\n",
    "       \n",
    "    # For every episode\n",
    "    for ith_episode in range(num_episodes):\n",
    "           \n",
    "        # Reset the environment and pick the first action\n",
    "        state = env.reset()\n",
    "           \n",
    "        for t in itertools.count():\n",
    "               \n",
    "            # get probabilities of all actions from current state\n",
    "            action_probabilities = policy(state)\n",
    "   \n",
    "            # choose action according to \n",
    "            # the probability distribution\n",
    "            action = np.random.choice(np.arange(\n",
    "                      len(action_probabilities)),\n",
    "                       p = action_probabilities)\n",
    "            \n",
    "   \n",
    "            # take action and get reward, transit to next state\n",
    "            next_state, reward, done, _ = env.step(action)\n",
    "           \n",
    "            state_tup = state[0] , state[1] , state[2] , state[3] \n",
    "            sext_state_tup = next_state[0] , next_state[1] , next_state[2] , next_state[3] \n",
    "               \n",
    "            # TD Update\n",
    "            best_next_action = np.argmax(Q[sext_state_tup])    \n",
    "            td_target = reward + discount_factor * Q[sext_state_tup][best_next_action]\n",
    "            td_delta = td_target - Q[state_tup][action]\n",
    "            Q[state_tup][action] += alpha * td_delta\n",
    "   \n",
    "            # done is True if episode terminated   \n",
    "            if done:\n",
    "                break\n",
    "                   \n",
    "            state = next_state\n",
    "       \n",
    "    return Q"
   ]
  },
  {
   "cell_type": "code",
   "execution_count": 10,
   "id": "eef7e9b6",
   "metadata": {},
   "outputs": [],
   "source": [
    "Q = qLearning(env, 1000)"
   ]
  },
  {
   "cell_type": "code",
   "execution_count": null,
   "id": "3b313042",
   "metadata": {},
   "outputs": [],
   "source": []
  }
 ],
 "metadata": {
  "kernelspec": {
   "display_name": "Python 3",
   "language": "python",
   "name": "python3"
  }
 },
 "nbformat": 4,
 "nbformat_minor": 5
}
